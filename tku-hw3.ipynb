{
 "cells": [
  {
   "cell_type": "code",
   "execution_count": 1,
   "id": "df0c5213",
   "metadata": {
    "_cell_guid": "b1076dfc-b9ad-4769-8c92-a6c4dae69d19",
    "_uuid": "8f2839f25d086af736a60e9eeb907d3b93b6e0e5",
    "execution": {
     "iopub.execute_input": "2022-12-10T09:57:13.810841Z",
     "iopub.status.busy": "2022-12-10T09:57:13.809884Z",
     "iopub.status.idle": "2022-12-10T09:57:15.503519Z",
     "shell.execute_reply": "2022-12-10T09:57:15.502008Z"
    },
    "papermill": {
     "duration": 1.71362,
     "end_time": "2022-12-10T09:57:15.507058",
     "exception": false,
     "start_time": "2022-12-10T09:57:13.793438",
     "status": "completed"
    },
    "tags": []
   },
   "outputs": [],
   "source": [
    "import numpy as np\n",
    "import pandas as pd\n",
    "import matplotlib\n",
    "import seaborn as sns\n",
    "from sklearn.model_selection import train_test_split, RandomizedSearchCV\n",
    "from sklearn.preprocessing import StandardScaler, LabelEncoder, RobustScaler\n",
    "from sklearn.pipeline import Pipeline, make_pipeline\n",
    "from sklearn.ensemble import GradientBoostingRegressor"
   ]
  },
  {
   "cell_type": "code",
   "execution_count": 2,
   "id": "5eb19401",
   "metadata": {
    "execution": {
     "iopub.execute_input": "2022-12-10T09:57:15.535439Z",
     "iopub.status.busy": "2022-12-10T09:57:15.535036Z",
     "iopub.status.idle": "2022-12-10T09:57:15.569175Z",
     "shell.execute_reply": "2022-12-10T09:57:15.567698Z"
    },
    "papermill": {
     "duration": 0.052778,
     "end_time": "2022-12-10T09:57:15.571953",
     "exception": false,
     "start_time": "2022-12-10T09:57:15.519175",
     "status": "completed"
    },
    "tags": []
   },
   "outputs": [],
   "source": [
    "train_df = pd.read_csv('../input/titanic/train.csv')\n",
    "test_df = pd.read_csv('../input/titanic/test.csv')\n"
   ]
  },
  {
   "cell_type": "code",
   "execution_count": 3,
   "id": "e9ec288f",
   "metadata": {
    "execution": {
     "iopub.execute_input": "2022-12-10T09:57:15.596777Z",
     "iopub.status.busy": "2022-12-10T09:57:15.596238Z",
     "iopub.status.idle": "2022-12-10T09:57:15.624635Z",
     "shell.execute_reply": "2022-12-10T09:57:15.623053Z"
    },
    "papermill": {
     "duration": 0.043923,
     "end_time": "2022-12-10T09:57:15.627342",
     "exception": false,
     "start_time": "2022-12-10T09:57:15.583419",
     "status": "completed"
    },
    "tags": []
   },
   "outputs": [
    {
     "data": {
      "text/html": [
       "<div>\n",
       "<style scoped>\n",
       "    .dataframe tbody tr th:only-of-type {\n",
       "        vertical-align: middle;\n",
       "    }\n",
       "\n",
       "    .dataframe tbody tr th {\n",
       "        vertical-align: top;\n",
       "    }\n",
       "\n",
       "    .dataframe thead th {\n",
       "        text-align: right;\n",
       "    }\n",
       "</style>\n",
       "<table border=\"1\" class=\"dataframe\">\n",
       "  <thead>\n",
       "    <tr style=\"text-align: right;\">\n",
       "      <th></th>\n",
       "      <th>PassengerId</th>\n",
       "      <th>Pclass</th>\n",
       "      <th>Name</th>\n",
       "      <th>Sex</th>\n",
       "      <th>Age</th>\n",
       "      <th>SibSp</th>\n",
       "      <th>Parch</th>\n",
       "      <th>Ticket</th>\n",
       "      <th>Fare</th>\n",
       "      <th>Cabin</th>\n",
       "      <th>Embarked</th>\n",
       "    </tr>\n",
       "  </thead>\n",
       "  <tbody>\n",
       "    <tr>\n",
       "      <th>0</th>\n",
       "      <td>892</td>\n",
       "      <td>3</td>\n",
       "      <td>Kelly, Mr. James</td>\n",
       "      <td>male</td>\n",
       "      <td>34.5</td>\n",
       "      <td>0</td>\n",
       "      <td>0</td>\n",
       "      <td>330911</td>\n",
       "      <td>7.8292</td>\n",
       "      <td>NaN</td>\n",
       "      <td>Q</td>\n",
       "    </tr>\n",
       "    <tr>\n",
       "      <th>1</th>\n",
       "      <td>893</td>\n",
       "      <td>3</td>\n",
       "      <td>Wilkes, Mrs. James (Ellen Needs)</td>\n",
       "      <td>female</td>\n",
       "      <td>47.0</td>\n",
       "      <td>1</td>\n",
       "      <td>0</td>\n",
       "      <td>363272</td>\n",
       "      <td>7.0000</td>\n",
       "      <td>NaN</td>\n",
       "      <td>S</td>\n",
       "    </tr>\n",
       "    <tr>\n",
       "      <th>2</th>\n",
       "      <td>894</td>\n",
       "      <td>2</td>\n",
       "      <td>Myles, Mr. Thomas Francis</td>\n",
       "      <td>male</td>\n",
       "      <td>62.0</td>\n",
       "      <td>0</td>\n",
       "      <td>0</td>\n",
       "      <td>240276</td>\n",
       "      <td>9.6875</td>\n",
       "      <td>NaN</td>\n",
       "      <td>Q</td>\n",
       "    </tr>\n",
       "    <tr>\n",
       "      <th>3</th>\n",
       "      <td>895</td>\n",
       "      <td>3</td>\n",
       "      <td>Wirz, Mr. Albert</td>\n",
       "      <td>male</td>\n",
       "      <td>27.0</td>\n",
       "      <td>0</td>\n",
       "      <td>0</td>\n",
       "      <td>315154</td>\n",
       "      <td>8.6625</td>\n",
       "      <td>NaN</td>\n",
       "      <td>S</td>\n",
       "    </tr>\n",
       "    <tr>\n",
       "      <th>4</th>\n",
       "      <td>896</td>\n",
       "      <td>3</td>\n",
       "      <td>Hirvonen, Mrs. Alexander (Helga E Lindqvist)</td>\n",
       "      <td>female</td>\n",
       "      <td>22.0</td>\n",
       "      <td>1</td>\n",
       "      <td>1</td>\n",
       "      <td>3101298</td>\n",
       "      <td>12.2875</td>\n",
       "      <td>NaN</td>\n",
       "      <td>S</td>\n",
       "    </tr>\n",
       "  </tbody>\n",
       "</table>\n",
       "</div>"
      ],
      "text/plain": [
       "   PassengerId  Pclass                                          Name     Sex  \\\n",
       "0          892       3                              Kelly, Mr. James    male   \n",
       "1          893       3              Wilkes, Mrs. James (Ellen Needs)  female   \n",
       "2          894       2                     Myles, Mr. Thomas Francis    male   \n",
       "3          895       3                              Wirz, Mr. Albert    male   \n",
       "4          896       3  Hirvonen, Mrs. Alexander (Helga E Lindqvist)  female   \n",
       "\n",
       "    Age  SibSp  Parch   Ticket     Fare Cabin Embarked  \n",
       "0  34.5      0      0   330911   7.8292   NaN        Q  \n",
       "1  47.0      1      0   363272   7.0000   NaN        S  \n",
       "2  62.0      0      0   240276   9.6875   NaN        Q  \n",
       "3  27.0      0      0   315154   8.6625   NaN        S  \n",
       "4  22.0      1      1  3101298  12.2875   NaN        S  "
      ]
     },
     "execution_count": 3,
     "metadata": {},
     "output_type": "execute_result"
    }
   ],
   "source": [
    "test_df.head()"
   ]
  },
  {
   "cell_type": "code",
   "execution_count": 4,
   "id": "6d689076",
   "metadata": {
    "execution": {
     "iopub.execute_input": "2022-12-10T09:57:15.653135Z",
     "iopub.status.busy": "2022-12-10T09:57:15.651426Z",
     "iopub.status.idle": "2022-12-10T09:57:15.671131Z",
     "shell.execute_reply": "2022-12-10T09:57:15.669631Z"
    },
    "papermill": {
     "duration": 0.035349,
     "end_time": "2022-12-10T09:57:15.673955",
     "exception": false,
     "start_time": "2022-12-10T09:57:15.638606",
     "status": "completed"
    },
    "tags": []
   },
   "outputs": [
    {
     "data": {
      "text/html": [
       "<div>\n",
       "<style scoped>\n",
       "    .dataframe tbody tr th:only-of-type {\n",
       "        vertical-align: middle;\n",
       "    }\n",
       "\n",
       "    .dataframe tbody tr th {\n",
       "        vertical-align: top;\n",
       "    }\n",
       "\n",
       "    .dataframe thead th {\n",
       "        text-align: right;\n",
       "    }\n",
       "</style>\n",
       "<table border=\"1\" class=\"dataframe\">\n",
       "  <thead>\n",
       "    <tr style=\"text-align: right;\">\n",
       "      <th></th>\n",
       "      <th>PassengerId</th>\n",
       "      <th>Survived</th>\n",
       "      <th>Pclass</th>\n",
       "      <th>Name</th>\n",
       "      <th>Sex</th>\n",
       "      <th>Age</th>\n",
       "      <th>SibSp</th>\n",
       "      <th>Parch</th>\n",
       "      <th>Ticket</th>\n",
       "      <th>Fare</th>\n",
       "      <th>Cabin</th>\n",
       "      <th>Embarked</th>\n",
       "    </tr>\n",
       "  </thead>\n",
       "  <tbody>\n",
       "    <tr>\n",
       "      <th>0</th>\n",
       "      <td>1</td>\n",
       "      <td>0</td>\n",
       "      <td>3</td>\n",
       "      <td>Braund, Mr. Owen Harris</td>\n",
       "      <td>male</td>\n",
       "      <td>22.0</td>\n",
       "      <td>1</td>\n",
       "      <td>0</td>\n",
       "      <td>A/5 21171</td>\n",
       "      <td>7.2500</td>\n",
       "      <td>NaN</td>\n",
       "      <td>S</td>\n",
       "    </tr>\n",
       "    <tr>\n",
       "      <th>1</th>\n",
       "      <td>2</td>\n",
       "      <td>1</td>\n",
       "      <td>1</td>\n",
       "      <td>Cumings, Mrs. John Bradley (Florence Briggs Th...</td>\n",
       "      <td>female</td>\n",
       "      <td>38.0</td>\n",
       "      <td>1</td>\n",
       "      <td>0</td>\n",
       "      <td>PC 17599</td>\n",
       "      <td>71.2833</td>\n",
       "      <td>C85</td>\n",
       "      <td>C</td>\n",
       "    </tr>\n",
       "    <tr>\n",
       "      <th>2</th>\n",
       "      <td>3</td>\n",
       "      <td>1</td>\n",
       "      <td>3</td>\n",
       "      <td>Heikkinen, Miss. Laina</td>\n",
       "      <td>female</td>\n",
       "      <td>26.0</td>\n",
       "      <td>0</td>\n",
       "      <td>0</td>\n",
       "      <td>STON/O2. 3101282</td>\n",
       "      <td>7.9250</td>\n",
       "      <td>NaN</td>\n",
       "      <td>S</td>\n",
       "    </tr>\n",
       "    <tr>\n",
       "      <th>3</th>\n",
       "      <td>4</td>\n",
       "      <td>1</td>\n",
       "      <td>1</td>\n",
       "      <td>Futrelle, Mrs. Jacques Heath (Lily May Peel)</td>\n",
       "      <td>female</td>\n",
       "      <td>35.0</td>\n",
       "      <td>1</td>\n",
       "      <td>0</td>\n",
       "      <td>113803</td>\n",
       "      <td>53.1000</td>\n",
       "      <td>C123</td>\n",
       "      <td>S</td>\n",
       "    </tr>\n",
       "    <tr>\n",
       "      <th>4</th>\n",
       "      <td>5</td>\n",
       "      <td>0</td>\n",
       "      <td>3</td>\n",
       "      <td>Allen, Mr. William Henry</td>\n",
       "      <td>male</td>\n",
       "      <td>35.0</td>\n",
       "      <td>0</td>\n",
       "      <td>0</td>\n",
       "      <td>373450</td>\n",
       "      <td>8.0500</td>\n",
       "      <td>NaN</td>\n",
       "      <td>S</td>\n",
       "    </tr>\n",
       "  </tbody>\n",
       "</table>\n",
       "</div>"
      ],
      "text/plain": [
       "   PassengerId  Survived  Pclass  \\\n",
       "0            1         0       3   \n",
       "1            2         1       1   \n",
       "2            3         1       3   \n",
       "3            4         1       1   \n",
       "4            5         0       3   \n",
       "\n",
       "                                                Name     Sex   Age  SibSp  \\\n",
       "0                            Braund, Mr. Owen Harris    male  22.0      1   \n",
       "1  Cumings, Mrs. John Bradley (Florence Briggs Th...  female  38.0      1   \n",
       "2                             Heikkinen, Miss. Laina  female  26.0      0   \n",
       "3       Futrelle, Mrs. Jacques Heath (Lily May Peel)  female  35.0      1   \n",
       "4                           Allen, Mr. William Henry    male  35.0      0   \n",
       "\n",
       "   Parch            Ticket     Fare Cabin Embarked  \n",
       "0      0         A/5 21171   7.2500   NaN        S  \n",
       "1      0          PC 17599  71.2833   C85        C  \n",
       "2      0  STON/O2. 3101282   7.9250   NaN        S  \n",
       "3      0            113803  53.1000  C123        S  \n",
       "4      0            373450   8.0500   NaN        S  "
      ]
     },
     "execution_count": 4,
     "metadata": {},
     "output_type": "execute_result"
    }
   ],
   "source": [
    "train_df.head()"
   ]
  },
  {
   "cell_type": "code",
   "execution_count": 5,
   "id": "3d607519",
   "metadata": {
    "execution": {
     "iopub.execute_input": "2022-12-10T09:57:15.699543Z",
     "iopub.status.busy": "2022-12-10T09:57:15.699174Z",
     "iopub.status.idle": "2022-12-10T09:57:15.719086Z",
     "shell.execute_reply": "2022-12-10T09:57:15.717554Z"
    },
    "papermill": {
     "duration": 0.035839,
     "end_time": "2022-12-10T09:57:15.721697",
     "exception": false,
     "start_time": "2022-12-10T09:57:15.685858",
     "status": "completed"
    },
    "tags": []
   },
   "outputs": [],
   "source": [
    "full_df = pd.concat([train_df, test_df]).reset_index(\n",
    "    drop=True).drop(['PassengerId'], axis=1)"
   ]
  },
  {
   "cell_type": "code",
   "execution_count": 6,
   "id": "5356cff4",
   "metadata": {
    "execution": {
     "iopub.execute_input": "2022-12-10T09:57:15.748152Z",
     "iopub.status.busy": "2022-12-10T09:57:15.747005Z",
     "iopub.status.idle": "2022-12-10T09:57:15.772637Z",
     "shell.execute_reply": "2022-12-10T09:57:15.771117Z"
    },
    "papermill": {
     "duration": 0.041813,
     "end_time": "2022-12-10T09:57:15.775212",
     "exception": false,
     "start_time": "2022-12-10T09:57:15.733399",
     "status": "completed"
    },
    "tags": []
   },
   "outputs": [
    {
     "data": {
      "text/html": [
       "<div>\n",
       "<style scoped>\n",
       "    .dataframe tbody tr th:only-of-type {\n",
       "        vertical-align: middle;\n",
       "    }\n",
       "\n",
       "    .dataframe tbody tr th {\n",
       "        vertical-align: top;\n",
       "    }\n",
       "\n",
       "    .dataframe thead th {\n",
       "        text-align: right;\n",
       "    }\n",
       "</style>\n",
       "<table border=\"1\" class=\"dataframe\">\n",
       "  <thead>\n",
       "    <tr style=\"text-align: right;\">\n",
       "      <th></th>\n",
       "      <th>Survived</th>\n",
       "      <th>Pclass</th>\n",
       "      <th>Name</th>\n",
       "      <th>Sex</th>\n",
       "      <th>Age</th>\n",
       "      <th>SibSp</th>\n",
       "      <th>Parch</th>\n",
       "      <th>Ticket</th>\n",
       "      <th>Fare</th>\n",
       "      <th>Cabin</th>\n",
       "      <th>Embarked</th>\n",
       "    </tr>\n",
       "  </thead>\n",
       "  <tbody>\n",
       "    <tr>\n",
       "      <th>0</th>\n",
       "      <td>0.0</td>\n",
       "      <td>3</td>\n",
       "      <td>Braund, Mr. Owen Harris</td>\n",
       "      <td>male</td>\n",
       "      <td>22.0</td>\n",
       "      <td>1</td>\n",
       "      <td>0</td>\n",
       "      <td>A/5 21171</td>\n",
       "      <td>7.2500</td>\n",
       "      <td>NaN</td>\n",
       "      <td>S</td>\n",
       "    </tr>\n",
       "    <tr>\n",
       "      <th>1</th>\n",
       "      <td>1.0</td>\n",
       "      <td>1</td>\n",
       "      <td>Cumings, Mrs. John Bradley (Florence Briggs Th...</td>\n",
       "      <td>female</td>\n",
       "      <td>38.0</td>\n",
       "      <td>1</td>\n",
       "      <td>0</td>\n",
       "      <td>PC 17599</td>\n",
       "      <td>71.2833</td>\n",
       "      <td>C85</td>\n",
       "      <td>C</td>\n",
       "    </tr>\n",
       "    <tr>\n",
       "      <th>2</th>\n",
       "      <td>1.0</td>\n",
       "      <td>3</td>\n",
       "      <td>Heikkinen, Miss. Laina</td>\n",
       "      <td>female</td>\n",
       "      <td>26.0</td>\n",
       "      <td>0</td>\n",
       "      <td>0</td>\n",
       "      <td>STON/O2. 3101282</td>\n",
       "      <td>7.9250</td>\n",
       "      <td>NaN</td>\n",
       "      <td>S</td>\n",
       "    </tr>\n",
       "    <tr>\n",
       "      <th>3</th>\n",
       "      <td>1.0</td>\n",
       "      <td>1</td>\n",
       "      <td>Futrelle, Mrs. Jacques Heath (Lily May Peel)</td>\n",
       "      <td>female</td>\n",
       "      <td>35.0</td>\n",
       "      <td>1</td>\n",
       "      <td>0</td>\n",
       "      <td>113803</td>\n",
       "      <td>53.1000</td>\n",
       "      <td>C123</td>\n",
       "      <td>S</td>\n",
       "    </tr>\n",
       "    <tr>\n",
       "      <th>4</th>\n",
       "      <td>0.0</td>\n",
       "      <td>3</td>\n",
       "      <td>Allen, Mr. William Henry</td>\n",
       "      <td>male</td>\n",
       "      <td>35.0</td>\n",
       "      <td>0</td>\n",
       "      <td>0</td>\n",
       "      <td>373450</td>\n",
       "      <td>8.0500</td>\n",
       "      <td>NaN</td>\n",
       "      <td>S</td>\n",
       "    </tr>\n",
       "    <tr>\n",
       "      <th>...</th>\n",
       "      <td>...</td>\n",
       "      <td>...</td>\n",
       "      <td>...</td>\n",
       "      <td>...</td>\n",
       "      <td>...</td>\n",
       "      <td>...</td>\n",
       "      <td>...</td>\n",
       "      <td>...</td>\n",
       "      <td>...</td>\n",
       "      <td>...</td>\n",
       "      <td>...</td>\n",
       "    </tr>\n",
       "    <tr>\n",
       "      <th>1304</th>\n",
       "      <td>NaN</td>\n",
       "      <td>3</td>\n",
       "      <td>Spector, Mr. Woolf</td>\n",
       "      <td>male</td>\n",
       "      <td>NaN</td>\n",
       "      <td>0</td>\n",
       "      <td>0</td>\n",
       "      <td>A.5. 3236</td>\n",
       "      <td>8.0500</td>\n",
       "      <td>NaN</td>\n",
       "      <td>S</td>\n",
       "    </tr>\n",
       "    <tr>\n",
       "      <th>1305</th>\n",
       "      <td>NaN</td>\n",
       "      <td>1</td>\n",
       "      <td>Oliva y Ocana, Dona. Fermina</td>\n",
       "      <td>female</td>\n",
       "      <td>39.0</td>\n",
       "      <td>0</td>\n",
       "      <td>0</td>\n",
       "      <td>PC 17758</td>\n",
       "      <td>108.9000</td>\n",
       "      <td>C105</td>\n",
       "      <td>C</td>\n",
       "    </tr>\n",
       "    <tr>\n",
       "      <th>1306</th>\n",
       "      <td>NaN</td>\n",
       "      <td>3</td>\n",
       "      <td>Saether, Mr. Simon Sivertsen</td>\n",
       "      <td>male</td>\n",
       "      <td>38.5</td>\n",
       "      <td>0</td>\n",
       "      <td>0</td>\n",
       "      <td>SOTON/O.Q. 3101262</td>\n",
       "      <td>7.2500</td>\n",
       "      <td>NaN</td>\n",
       "      <td>S</td>\n",
       "    </tr>\n",
       "    <tr>\n",
       "      <th>1307</th>\n",
       "      <td>NaN</td>\n",
       "      <td>3</td>\n",
       "      <td>Ware, Mr. Frederick</td>\n",
       "      <td>male</td>\n",
       "      <td>NaN</td>\n",
       "      <td>0</td>\n",
       "      <td>0</td>\n",
       "      <td>359309</td>\n",
       "      <td>8.0500</td>\n",
       "      <td>NaN</td>\n",
       "      <td>S</td>\n",
       "    </tr>\n",
       "    <tr>\n",
       "      <th>1308</th>\n",
       "      <td>NaN</td>\n",
       "      <td>3</td>\n",
       "      <td>Peter, Master. Michael J</td>\n",
       "      <td>male</td>\n",
       "      <td>NaN</td>\n",
       "      <td>1</td>\n",
       "      <td>1</td>\n",
       "      <td>2668</td>\n",
       "      <td>22.3583</td>\n",
       "      <td>NaN</td>\n",
       "      <td>C</td>\n",
       "    </tr>\n",
       "  </tbody>\n",
       "</table>\n",
       "<p>1309 rows × 11 columns</p>\n",
       "</div>"
      ],
      "text/plain": [
       "      Survived  Pclass                                               Name  \\\n",
       "0          0.0       3                            Braund, Mr. Owen Harris   \n",
       "1          1.0       1  Cumings, Mrs. John Bradley (Florence Briggs Th...   \n",
       "2          1.0       3                             Heikkinen, Miss. Laina   \n",
       "3          1.0       1       Futrelle, Mrs. Jacques Heath (Lily May Peel)   \n",
       "4          0.0       3                           Allen, Mr. William Henry   \n",
       "...        ...     ...                                                ...   \n",
       "1304       NaN       3                                 Spector, Mr. Woolf   \n",
       "1305       NaN       1                       Oliva y Ocana, Dona. Fermina   \n",
       "1306       NaN       3                       Saether, Mr. Simon Sivertsen   \n",
       "1307       NaN       3                                Ware, Mr. Frederick   \n",
       "1308       NaN       3                           Peter, Master. Michael J   \n",
       "\n",
       "         Sex   Age  SibSp  Parch              Ticket      Fare Cabin Embarked  \n",
       "0       male  22.0      1      0           A/5 21171    7.2500   NaN        S  \n",
       "1     female  38.0      1      0            PC 17599   71.2833   C85        C  \n",
       "2     female  26.0      0      0    STON/O2. 3101282    7.9250   NaN        S  \n",
       "3     female  35.0      1      0              113803   53.1000  C123        S  \n",
       "4       male  35.0      0      0              373450    8.0500   NaN        S  \n",
       "...      ...   ...    ...    ...                 ...       ...   ...      ...  \n",
       "1304    male   NaN      0      0           A.5. 3236    8.0500   NaN        S  \n",
       "1305  female  39.0      0      0            PC 17758  108.9000  C105        C  \n",
       "1306    male  38.5      0      0  SOTON/O.Q. 3101262    7.2500   NaN        S  \n",
       "1307    male   NaN      0      0              359309    8.0500   NaN        S  \n",
       "1308    male   NaN      1      1                2668   22.3583   NaN        C  \n",
       "\n",
       "[1309 rows x 11 columns]"
      ]
     },
     "execution_count": 6,
     "metadata": {},
     "output_type": "execute_result"
    }
   ],
   "source": [
    "full_df"
   ]
  },
  {
   "cell_type": "code",
   "execution_count": 7,
   "id": "653ff6ae",
   "metadata": {
    "execution": {
     "iopub.execute_input": "2022-12-10T09:57:15.802453Z",
     "iopub.status.busy": "2022-12-10T09:57:15.801953Z",
     "iopub.status.idle": "2022-12-10T09:57:15.827701Z",
     "shell.execute_reply": "2022-12-10T09:57:15.826058Z"
    },
    "papermill": {
     "duration": 0.043519,
     "end_time": "2022-12-10T09:57:15.831429",
     "exception": false,
     "start_time": "2022-12-10T09:57:15.787910",
     "status": "completed"
    },
    "tags": []
   },
   "outputs": [
    {
     "name": "stdout",
     "output_type": "stream",
     "text": [
      "<class 'pandas.core.frame.DataFrame'>\n",
      "RangeIndex: 1309 entries, 0 to 1308\n",
      "Data columns (total 11 columns):\n",
      " #   Column    Non-Null Count  Dtype  \n",
      "---  ------    --------------  -----  \n",
      " 0   Survived  891 non-null    float64\n",
      " 1   Pclass    1309 non-null   int64  \n",
      " 2   Name      1309 non-null   object \n",
      " 3   Sex       1309 non-null   object \n",
      " 4   Age       1046 non-null   float64\n",
      " 5   SibSp     1309 non-null   int64  \n",
      " 6   Parch     1309 non-null   int64  \n",
      " 7   Ticket    1309 non-null   object \n",
      " 8   Fare      1308 non-null   float64\n",
      " 9   Cabin     295 non-null    object \n",
      " 10  Embarked  1307 non-null   object \n",
      "dtypes: float64(3), int64(3), object(5)\n",
      "memory usage: 112.6+ KB\n"
     ]
    }
   ],
   "source": [
    "full_df.info()"
   ]
  },
  {
   "cell_type": "code",
   "execution_count": 8,
   "id": "d3c6c0ae",
   "metadata": {
    "execution": {
     "iopub.execute_input": "2022-12-10T09:57:15.859621Z",
     "iopub.status.busy": "2022-12-10T09:57:15.859016Z",
     "iopub.status.idle": "2022-12-10T09:57:15.866595Z",
     "shell.execute_reply": "2022-12-10T09:57:15.864864Z"
    },
    "papermill": {
     "duration": 0.024416,
     "end_time": "2022-12-10T09:57:15.869133",
     "exception": false,
     "start_time": "2022-12-10T09:57:15.844717",
     "status": "completed"
    },
    "tags": []
   },
   "outputs": [],
   "source": [
    "miss_data = full_df[['Age', 'Fare', 'Cabin', 'Embarked']]"
   ]
  },
  {
   "cell_type": "code",
   "execution_count": 9,
   "id": "3a033e6e",
   "metadata": {
    "execution": {
     "iopub.execute_input": "2022-12-10T09:57:15.896732Z",
     "iopub.status.busy": "2022-12-10T09:57:15.896266Z",
     "iopub.status.idle": "2022-12-10T09:57:15.915258Z",
     "shell.execute_reply": "2022-12-10T09:57:15.914022Z"
    },
    "papermill": {
     "duration": 0.03586,
     "end_time": "2022-12-10T09:57:15.917926",
     "exception": false,
     "start_time": "2022-12-10T09:57:15.882066",
     "status": "completed"
    },
    "tags": []
   },
   "outputs": [
    {
     "data": {
      "text/plain": [
       "Age    Fare      Cabin    Embarked\n",
       "36.00  120.0000  B96 B98  S           2\n",
       "25.00  55.4417   E50      C           2\n",
       "50.00  211.5000  C80      C           2\n",
       "24.00  69.3000   B35      C           2\n",
       "0.92   151.5500  C22 C26  S           1\n",
       "                                     ..\n",
       "30.00  151.5500  C22 C26  S           1\n",
       "       164.8667  C7       S           1\n",
       "31.00  28.5375   C53      C           1\n",
       "       50.4958   A24      S           1\n",
       "80.00  30.0000   A23      S           1\n",
       "Length: 266, dtype: int64"
      ]
     },
     "execution_count": 9,
     "metadata": {},
     "output_type": "execute_result"
    }
   ],
   "source": [
    "miss_data.value_counts()"
   ]
  },
  {
   "cell_type": "code",
   "execution_count": 10,
   "id": "7f8254f6",
   "metadata": {
    "execution": {
     "iopub.execute_input": "2022-12-10T09:57:15.945173Z",
     "iopub.status.busy": "2022-12-10T09:57:15.944724Z",
     "iopub.status.idle": "2022-12-10T09:57:15.967194Z",
     "shell.execute_reply": "2022-12-10T09:57:15.966205Z"
    },
    "papermill": {
     "duration": 0.039073,
     "end_time": "2022-12-10T09:57:15.969514",
     "exception": false,
     "start_time": "2022-12-10T09:57:15.930441",
     "status": "completed"
    },
    "tags": []
   },
   "outputs": [
    {
     "data": {
      "text/html": [
       "<div>\n",
       "<style scoped>\n",
       "    .dataframe tbody tr th:only-of-type {\n",
       "        vertical-align: middle;\n",
       "    }\n",
       "\n",
       "    .dataframe tbody tr th {\n",
       "        vertical-align: top;\n",
       "    }\n",
       "\n",
       "    .dataframe thead th {\n",
       "        text-align: right;\n",
       "    }\n",
       "</style>\n",
       "<table border=\"1\" class=\"dataframe\">\n",
       "  <thead>\n",
       "    <tr style=\"text-align: right;\">\n",
       "      <th></th>\n",
       "      <th>Age</th>\n",
       "      <th>Fare</th>\n",
       "    </tr>\n",
       "  </thead>\n",
       "  <tbody>\n",
       "    <tr>\n",
       "      <th>count</th>\n",
       "      <td>1046.000000</td>\n",
       "      <td>1308.000000</td>\n",
       "    </tr>\n",
       "    <tr>\n",
       "      <th>mean</th>\n",
       "      <td>29.881138</td>\n",
       "      <td>33.295479</td>\n",
       "    </tr>\n",
       "    <tr>\n",
       "      <th>std</th>\n",
       "      <td>14.413493</td>\n",
       "      <td>51.758668</td>\n",
       "    </tr>\n",
       "    <tr>\n",
       "      <th>min</th>\n",
       "      <td>0.170000</td>\n",
       "      <td>0.000000</td>\n",
       "    </tr>\n",
       "    <tr>\n",
       "      <th>25%</th>\n",
       "      <td>21.000000</td>\n",
       "      <td>7.895800</td>\n",
       "    </tr>\n",
       "    <tr>\n",
       "      <th>50%</th>\n",
       "      <td>28.000000</td>\n",
       "      <td>14.454200</td>\n",
       "    </tr>\n",
       "    <tr>\n",
       "      <th>75%</th>\n",
       "      <td>39.000000</td>\n",
       "      <td>31.275000</td>\n",
       "    </tr>\n",
       "    <tr>\n",
       "      <th>max</th>\n",
       "      <td>80.000000</td>\n",
       "      <td>512.329200</td>\n",
       "    </tr>\n",
       "  </tbody>\n",
       "</table>\n",
       "</div>"
      ],
      "text/plain": [
       "               Age         Fare\n",
       "count  1046.000000  1308.000000\n",
       "mean     29.881138    33.295479\n",
       "std      14.413493    51.758668\n",
       "min       0.170000     0.000000\n",
       "25%      21.000000     7.895800\n",
       "50%      28.000000    14.454200\n",
       "75%      39.000000    31.275000\n",
       "max      80.000000   512.329200"
      ]
     },
     "execution_count": 10,
     "metadata": {},
     "output_type": "execute_result"
    }
   ],
   "source": [
    "miss_data.describe()"
   ]
  },
  {
   "cell_type": "code",
   "execution_count": 11,
   "id": "112dae90",
   "metadata": {
    "execution": {
     "iopub.execute_input": "2022-12-10T09:57:15.997298Z",
     "iopub.status.busy": "2022-12-10T09:57:15.996722Z",
     "iopub.status.idle": "2022-12-10T09:57:16.008248Z",
     "shell.execute_reply": "2022-12-10T09:57:16.006621Z"
    },
    "papermill": {
     "duration": 0.029246,
     "end_time": "2022-12-10T09:57:16.011245",
     "exception": false,
     "start_time": "2022-12-10T09:57:15.981999",
     "status": "completed"
    },
    "tags": []
   },
   "outputs": [
    {
     "name": "stdout",
     "output_type": "stream",
     "text": [
      "\n",
      "    Count of Age missings: 263 or 20.09 %\n",
      "    Count of Fare missings: 1 or 0.08\n",
      "    Count of Cabin missings: 1014 or 77.46 %\n",
      "    Count of Embarked missings: 2 or 0.15 %\n",
      "    \n"
     ]
    }
   ],
   "source": [
    "print(f'''\n",
    "    Count of Age missings: {miss_data.Age.isna().sum()} or {round(miss_data.Age.isna().sum() * 100 / len(miss_data), 2)} %\n",
    "    Count of Fare missings: {miss_data.Fare.isna().sum()} or {round(miss_data.Fare.isna().sum() * 100 / len(miss_data), 2)}\n",
    "    Count of Cabin missings: {miss_data.Cabin.isna().sum()} or {round(miss_data.Cabin.isna().sum() * 100 / len(miss_data), 2)} %\n",
    "    Count of Embarked missings: {miss_data.Embarked.isna().sum()} or {round(miss_data.Embarked.isna().sum() * 100 / len(miss_data), 2)} %\n",
    "    ''')"
   ]
  },
  {
   "cell_type": "code",
   "execution_count": 12,
   "id": "066dd3c6",
   "metadata": {
    "execution": {
     "iopub.execute_input": "2022-12-10T09:57:16.045552Z",
     "iopub.status.busy": "2022-12-10T09:57:16.044750Z",
     "iopub.status.idle": "2022-12-10T09:57:16.076538Z",
     "shell.execute_reply": "2022-12-10T09:57:16.075329Z"
    },
    "papermill": {
     "duration": 0.052325,
     "end_time": "2022-12-10T09:57:16.079555",
     "exception": false,
     "start_time": "2022-12-10T09:57:16.027230",
     "status": "completed"
    },
    "tags": []
   },
   "outputs": [
    {
     "data": {
      "text/html": [
       "<div>\n",
       "<style scoped>\n",
       "    .dataframe tbody tr th:only-of-type {\n",
       "        vertical-align: middle;\n",
       "    }\n",
       "\n",
       "    .dataframe tbody tr th {\n",
       "        vertical-align: top;\n",
       "    }\n",
       "\n",
       "    .dataframe thead th {\n",
       "        text-align: right;\n",
       "    }\n",
       "</style>\n",
       "<table border=\"1\" class=\"dataframe\">\n",
       "  <thead>\n",
       "    <tr style=\"text-align: right;\">\n",
       "      <th></th>\n",
       "      <th>Survived</th>\n",
       "      <th>Pclass</th>\n",
       "      <th>Name</th>\n",
       "      <th>Sex</th>\n",
       "      <th>Age</th>\n",
       "      <th>SibSp</th>\n",
       "      <th>Parch</th>\n",
       "      <th>Ticket</th>\n",
       "      <th>Fare</th>\n",
       "      <th>Cabin</th>\n",
       "      <th>Embarked</th>\n",
       "    </tr>\n",
       "  </thead>\n",
       "  <tbody>\n",
       "    <tr>\n",
       "      <th>179</th>\n",
       "      <td>0.0</td>\n",
       "      <td>3</td>\n",
       "      <td>Leonard, Mr. Lionel</td>\n",
       "      <td>male</td>\n",
       "      <td>36.0</td>\n",
       "      <td>0</td>\n",
       "      <td>0</td>\n",
       "      <td>LINE</td>\n",
       "      <td>0.0</td>\n",
       "      <td>NaN</td>\n",
       "      <td>S</td>\n",
       "    </tr>\n",
       "    <tr>\n",
       "      <th>263</th>\n",
       "      <td>0.0</td>\n",
       "      <td>1</td>\n",
       "      <td>Harrison, Mr. William</td>\n",
       "      <td>male</td>\n",
       "      <td>40.0</td>\n",
       "      <td>0</td>\n",
       "      <td>0</td>\n",
       "      <td>112059</td>\n",
       "      <td>0.0</td>\n",
       "      <td>B94</td>\n",
       "      <td>S</td>\n",
       "    </tr>\n",
       "    <tr>\n",
       "      <th>271</th>\n",
       "      <td>1.0</td>\n",
       "      <td>3</td>\n",
       "      <td>Tornquist, Mr. William Henry</td>\n",
       "      <td>male</td>\n",
       "      <td>25.0</td>\n",
       "      <td>0</td>\n",
       "      <td>0</td>\n",
       "      <td>LINE</td>\n",
       "      <td>0.0</td>\n",
       "      <td>NaN</td>\n",
       "      <td>S</td>\n",
       "    </tr>\n",
       "    <tr>\n",
       "      <th>277</th>\n",
       "      <td>0.0</td>\n",
       "      <td>2</td>\n",
       "      <td>Parkes, Mr. Francis \"Frank\"</td>\n",
       "      <td>male</td>\n",
       "      <td>NaN</td>\n",
       "      <td>0</td>\n",
       "      <td>0</td>\n",
       "      <td>239853</td>\n",
       "      <td>0.0</td>\n",
       "      <td>NaN</td>\n",
       "      <td>S</td>\n",
       "    </tr>\n",
       "    <tr>\n",
       "      <th>302</th>\n",
       "      <td>0.0</td>\n",
       "      <td>3</td>\n",
       "      <td>Johnson, Mr. William Cahoone Jr</td>\n",
       "      <td>male</td>\n",
       "      <td>19.0</td>\n",
       "      <td>0</td>\n",
       "      <td>0</td>\n",
       "      <td>LINE</td>\n",
       "      <td>0.0</td>\n",
       "      <td>NaN</td>\n",
       "      <td>S</td>\n",
       "    </tr>\n",
       "    <tr>\n",
       "      <th>413</th>\n",
       "      <td>0.0</td>\n",
       "      <td>2</td>\n",
       "      <td>Cunningham, Mr. Alfred Fleming</td>\n",
       "      <td>male</td>\n",
       "      <td>NaN</td>\n",
       "      <td>0</td>\n",
       "      <td>0</td>\n",
       "      <td>239853</td>\n",
       "      <td>0.0</td>\n",
       "      <td>NaN</td>\n",
       "      <td>S</td>\n",
       "    </tr>\n",
       "    <tr>\n",
       "      <th>466</th>\n",
       "      <td>0.0</td>\n",
       "      <td>2</td>\n",
       "      <td>Campbell, Mr. William</td>\n",
       "      <td>male</td>\n",
       "      <td>NaN</td>\n",
       "      <td>0</td>\n",
       "      <td>0</td>\n",
       "      <td>239853</td>\n",
       "      <td>0.0</td>\n",
       "      <td>NaN</td>\n",
       "      <td>S</td>\n",
       "    </tr>\n",
       "    <tr>\n",
       "      <th>481</th>\n",
       "      <td>0.0</td>\n",
       "      <td>2</td>\n",
       "      <td>Frost, Mr. Anthony Wood \"Archie\"</td>\n",
       "      <td>male</td>\n",
       "      <td>NaN</td>\n",
       "      <td>0</td>\n",
       "      <td>0</td>\n",
       "      <td>239854</td>\n",
       "      <td>0.0</td>\n",
       "      <td>NaN</td>\n",
       "      <td>S</td>\n",
       "    </tr>\n",
       "    <tr>\n",
       "      <th>597</th>\n",
       "      <td>0.0</td>\n",
       "      <td>3</td>\n",
       "      <td>Johnson, Mr. Alfred</td>\n",
       "      <td>male</td>\n",
       "      <td>49.0</td>\n",
       "      <td>0</td>\n",
       "      <td>0</td>\n",
       "      <td>LINE</td>\n",
       "      <td>0.0</td>\n",
       "      <td>NaN</td>\n",
       "      <td>S</td>\n",
       "    </tr>\n",
       "    <tr>\n",
       "      <th>633</th>\n",
       "      <td>0.0</td>\n",
       "      <td>1</td>\n",
       "      <td>Parr, Mr. William Henry Marsh</td>\n",
       "      <td>male</td>\n",
       "      <td>NaN</td>\n",
       "      <td>0</td>\n",
       "      <td>0</td>\n",
       "      <td>112052</td>\n",
       "      <td>0.0</td>\n",
       "      <td>NaN</td>\n",
       "      <td>S</td>\n",
       "    </tr>\n",
       "    <tr>\n",
       "      <th>674</th>\n",
       "      <td>0.0</td>\n",
       "      <td>2</td>\n",
       "      <td>Watson, Mr. Ennis Hastings</td>\n",
       "      <td>male</td>\n",
       "      <td>NaN</td>\n",
       "      <td>0</td>\n",
       "      <td>0</td>\n",
       "      <td>239856</td>\n",
       "      <td>0.0</td>\n",
       "      <td>NaN</td>\n",
       "      <td>S</td>\n",
       "    </tr>\n",
       "    <tr>\n",
       "      <th>732</th>\n",
       "      <td>0.0</td>\n",
       "      <td>2</td>\n",
       "      <td>Knight, Mr. Robert J</td>\n",
       "      <td>male</td>\n",
       "      <td>NaN</td>\n",
       "      <td>0</td>\n",
       "      <td>0</td>\n",
       "      <td>239855</td>\n",
       "      <td>0.0</td>\n",
       "      <td>NaN</td>\n",
       "      <td>S</td>\n",
       "    </tr>\n",
       "    <tr>\n",
       "      <th>806</th>\n",
       "      <td>0.0</td>\n",
       "      <td>1</td>\n",
       "      <td>Andrews, Mr. Thomas Jr</td>\n",
       "      <td>male</td>\n",
       "      <td>39.0</td>\n",
       "      <td>0</td>\n",
       "      <td>0</td>\n",
       "      <td>112050</td>\n",
       "      <td>0.0</td>\n",
       "      <td>A36</td>\n",
       "      <td>S</td>\n",
       "    </tr>\n",
       "    <tr>\n",
       "      <th>815</th>\n",
       "      <td>0.0</td>\n",
       "      <td>1</td>\n",
       "      <td>Fry, Mr. Richard</td>\n",
       "      <td>male</td>\n",
       "      <td>NaN</td>\n",
       "      <td>0</td>\n",
       "      <td>0</td>\n",
       "      <td>112058</td>\n",
       "      <td>0.0</td>\n",
       "      <td>B102</td>\n",
       "      <td>S</td>\n",
       "    </tr>\n",
       "    <tr>\n",
       "      <th>822</th>\n",
       "      <td>0.0</td>\n",
       "      <td>1</td>\n",
       "      <td>Reuchlin, Jonkheer. John George</td>\n",
       "      <td>male</td>\n",
       "      <td>38.0</td>\n",
       "      <td>0</td>\n",
       "      <td>0</td>\n",
       "      <td>19972</td>\n",
       "      <td>0.0</td>\n",
       "      <td>NaN</td>\n",
       "      <td>S</td>\n",
       "    </tr>\n",
       "    <tr>\n",
       "      <th>1157</th>\n",
       "      <td>NaN</td>\n",
       "      <td>1</td>\n",
       "      <td>Chisholm, Mr. Roderick Robert Crispin</td>\n",
       "      <td>male</td>\n",
       "      <td>NaN</td>\n",
       "      <td>0</td>\n",
       "      <td>0</td>\n",
       "      <td>112051</td>\n",
       "      <td>0.0</td>\n",
       "      <td>NaN</td>\n",
       "      <td>S</td>\n",
       "    </tr>\n",
       "    <tr>\n",
       "      <th>1263</th>\n",
       "      <td>NaN</td>\n",
       "      <td>1</td>\n",
       "      <td>Ismay, Mr. Joseph Bruce</td>\n",
       "      <td>male</td>\n",
       "      <td>49.0</td>\n",
       "      <td>0</td>\n",
       "      <td>0</td>\n",
       "      <td>112058</td>\n",
       "      <td>0.0</td>\n",
       "      <td>B52 B54 B56</td>\n",
       "      <td>S</td>\n",
       "    </tr>\n",
       "  </tbody>\n",
       "</table>\n",
       "</div>"
      ],
      "text/plain": [
       "      Survived  Pclass                                   Name   Sex   Age  \\\n",
       "179        0.0       3                    Leonard, Mr. Lionel  male  36.0   \n",
       "263        0.0       1                  Harrison, Mr. William  male  40.0   \n",
       "271        1.0       3           Tornquist, Mr. William Henry  male  25.0   \n",
       "277        0.0       2            Parkes, Mr. Francis \"Frank\"  male   NaN   \n",
       "302        0.0       3        Johnson, Mr. William Cahoone Jr  male  19.0   \n",
       "413        0.0       2         Cunningham, Mr. Alfred Fleming  male   NaN   \n",
       "466        0.0       2                  Campbell, Mr. William  male   NaN   \n",
       "481        0.0       2       Frost, Mr. Anthony Wood \"Archie\"  male   NaN   \n",
       "597        0.0       3                    Johnson, Mr. Alfred  male  49.0   \n",
       "633        0.0       1          Parr, Mr. William Henry Marsh  male   NaN   \n",
       "674        0.0       2             Watson, Mr. Ennis Hastings  male   NaN   \n",
       "732        0.0       2                   Knight, Mr. Robert J  male   NaN   \n",
       "806        0.0       1                 Andrews, Mr. Thomas Jr  male  39.0   \n",
       "815        0.0       1                       Fry, Mr. Richard  male   NaN   \n",
       "822        0.0       1        Reuchlin, Jonkheer. John George  male  38.0   \n",
       "1157       NaN       1  Chisholm, Mr. Roderick Robert Crispin  male   NaN   \n",
       "1263       NaN       1                Ismay, Mr. Joseph Bruce  male  49.0   \n",
       "\n",
       "      SibSp  Parch  Ticket  Fare        Cabin Embarked  \n",
       "179       0      0    LINE   0.0          NaN        S  \n",
       "263       0      0  112059   0.0          B94        S  \n",
       "271       0      0    LINE   0.0          NaN        S  \n",
       "277       0      0  239853   0.0          NaN        S  \n",
       "302       0      0    LINE   0.0          NaN        S  \n",
       "413       0      0  239853   0.0          NaN        S  \n",
       "466       0      0  239853   0.0          NaN        S  \n",
       "481       0      0  239854   0.0          NaN        S  \n",
       "597       0      0    LINE   0.0          NaN        S  \n",
       "633       0      0  112052   0.0          NaN        S  \n",
       "674       0      0  239856   0.0          NaN        S  \n",
       "732       0      0  239855   0.0          NaN        S  \n",
       "806       0      0  112050   0.0          A36        S  \n",
       "815       0      0  112058   0.0         B102        S  \n",
       "822       0      0   19972   0.0          NaN        S  \n",
       "1157      0      0  112051   0.0          NaN        S  \n",
       "1263      0      0  112058   0.0  B52 B54 B56        S  "
      ]
     },
     "execution_count": 12,
     "metadata": {},
     "output_type": "execute_result"
    }
   ],
   "source": [
    "full_df[full_df.Fare == 0]"
   ]
  },
  {
   "cell_type": "code",
   "execution_count": 13,
   "id": "09f26606",
   "metadata": {
    "execution": {
     "iopub.execute_input": "2022-12-10T09:57:16.114570Z",
     "iopub.status.busy": "2022-12-10T09:57:16.113607Z",
     "iopub.status.idle": "2022-12-10T09:57:16.156300Z",
     "shell.execute_reply": "2022-12-10T09:57:16.154662Z"
    },
    "papermill": {
     "duration": 0.063213,
     "end_time": "2022-12-10T09:57:16.159269",
     "exception": false,
     "start_time": "2022-12-10T09:57:16.096056",
     "status": "completed"
    },
    "tags": []
   },
   "outputs": [
    {
     "data": {
      "text/html": [
       "<div>\n",
       "<style scoped>\n",
       "    .dataframe tbody tr th:only-of-type {\n",
       "        vertical-align: middle;\n",
       "    }\n",
       "\n",
       "    .dataframe tbody tr th {\n",
       "        vertical-align: top;\n",
       "    }\n",
       "\n",
       "    .dataframe thead th {\n",
       "        text-align: right;\n",
       "    }\n",
       "</style>\n",
       "<table border=\"1\" class=\"dataframe\">\n",
       "  <thead>\n",
       "    <tr style=\"text-align: right;\">\n",
       "      <th></th>\n",
       "      <th>Survived</th>\n",
       "      <th>Pclass</th>\n",
       "      <th>Age</th>\n",
       "      <th>SibSp</th>\n",
       "      <th>Parch</th>\n",
       "      <th>Fare</th>\n",
       "    </tr>\n",
       "  </thead>\n",
       "  <tbody>\n",
       "    <tr>\n",
       "      <th>count</th>\n",
       "      <td>15.000000</td>\n",
       "      <td>17.000000</td>\n",
       "      <td>8.000000</td>\n",
       "      <td>17.0</td>\n",
       "      <td>17.0</td>\n",
       "      <td>17.0</td>\n",
       "    </tr>\n",
       "    <tr>\n",
       "      <th>mean</th>\n",
       "      <td>0.066667</td>\n",
       "      <td>1.823529</td>\n",
       "      <td>36.875000</td>\n",
       "      <td>0.0</td>\n",
       "      <td>0.0</td>\n",
       "      <td>0.0</td>\n",
       "    </tr>\n",
       "    <tr>\n",
       "      <th>std</th>\n",
       "      <td>0.258199</td>\n",
       "      <td>0.808957</td>\n",
       "      <td>10.494046</td>\n",
       "      <td>0.0</td>\n",
       "      <td>0.0</td>\n",
       "      <td>0.0</td>\n",
       "    </tr>\n",
       "    <tr>\n",
       "      <th>min</th>\n",
       "      <td>0.000000</td>\n",
       "      <td>1.000000</td>\n",
       "      <td>19.000000</td>\n",
       "      <td>0.0</td>\n",
       "      <td>0.0</td>\n",
       "      <td>0.0</td>\n",
       "    </tr>\n",
       "    <tr>\n",
       "      <th>25%</th>\n",
       "      <td>0.000000</td>\n",
       "      <td>1.000000</td>\n",
       "      <td>33.250000</td>\n",
       "      <td>0.0</td>\n",
       "      <td>0.0</td>\n",
       "      <td>0.0</td>\n",
       "    </tr>\n",
       "    <tr>\n",
       "      <th>50%</th>\n",
       "      <td>0.000000</td>\n",
       "      <td>2.000000</td>\n",
       "      <td>38.500000</td>\n",
       "      <td>0.0</td>\n",
       "      <td>0.0</td>\n",
       "      <td>0.0</td>\n",
       "    </tr>\n",
       "    <tr>\n",
       "      <th>75%</th>\n",
       "      <td>0.000000</td>\n",
       "      <td>2.000000</td>\n",
       "      <td>42.250000</td>\n",
       "      <td>0.0</td>\n",
       "      <td>0.0</td>\n",
       "      <td>0.0</td>\n",
       "    </tr>\n",
       "    <tr>\n",
       "      <th>max</th>\n",
       "      <td>1.000000</td>\n",
       "      <td>3.000000</td>\n",
       "      <td>49.000000</td>\n",
       "      <td>0.0</td>\n",
       "      <td>0.0</td>\n",
       "      <td>0.0</td>\n",
       "    </tr>\n",
       "  </tbody>\n",
       "</table>\n",
       "</div>"
      ],
      "text/plain": [
       "        Survived     Pclass        Age  SibSp  Parch  Fare\n",
       "count  15.000000  17.000000   8.000000   17.0   17.0  17.0\n",
       "mean    0.066667   1.823529  36.875000    0.0    0.0   0.0\n",
       "std     0.258199   0.808957  10.494046    0.0    0.0   0.0\n",
       "min     0.000000   1.000000  19.000000    0.0    0.0   0.0\n",
       "25%     0.000000   1.000000  33.250000    0.0    0.0   0.0\n",
       "50%     0.000000   2.000000  38.500000    0.0    0.0   0.0\n",
       "75%     0.000000   2.000000  42.250000    0.0    0.0   0.0\n",
       "max     1.000000   3.000000  49.000000    0.0    0.0   0.0"
      ]
     },
     "execution_count": 13,
     "metadata": {},
     "output_type": "execute_result"
    }
   ],
   "source": [
    "full_df[full_df.Fare == 0].describe()"
   ]
  },
  {
   "cell_type": "code",
   "execution_count": 14,
   "id": "46178c38",
   "metadata": {
    "execution": {
     "iopub.execute_input": "2022-12-10T09:57:16.191082Z",
     "iopub.status.busy": "2022-12-10T09:57:16.190615Z",
     "iopub.status.idle": "2022-12-10T09:57:16.203170Z",
     "shell.execute_reply": "2022-12-10T09:57:16.201529Z"
    },
    "papermill": {
     "duration": 0.031483,
     "end_time": "2022-12-10T09:57:16.205835",
     "exception": false,
     "start_time": "2022-12-10T09:57:16.174352",
     "status": "completed"
    },
    "tags": []
   },
   "outputs": [],
   "source": [
    "full_df.Embarked.fillna(full_df.Embarked.mode()[0], inplace = True)\n",
    "full_df.Fare.fillna(full_df.Fare.mode()[0], inplace = True)\n",
    "full_df.drop(['Cabin', 'Ticket'], axis=1, inplace=True)"
   ]
  },
  {
   "cell_type": "markdown",
   "id": "83bf018e",
   "metadata": {
    "papermill": {
     "duration": 0.01388,
     "end_time": "2022-12-10T09:57:16.234119",
     "exception": false,
     "start_time": "2022-12-10T09:57:16.220239",
     "status": "completed"
    },
    "tags": []
   },
   "source": [
    "將Cabin、Ticket刪除缺失的值"
   ]
  },
  {
   "cell_type": "code",
   "execution_count": 15,
   "id": "e0f13969",
   "metadata": {
    "execution": {
     "iopub.execute_input": "2022-12-10T09:57:16.262897Z",
     "iopub.status.busy": "2022-12-10T09:57:16.262447Z",
     "iopub.status.idle": "2022-12-10T09:57:16.860909Z",
     "shell.execute_reply": "2022-12-10T09:57:16.859666Z"
    },
    "papermill": {
     "duration": 0.615583,
     "end_time": "2022-12-10T09:57:16.863364",
     "exception": false,
     "start_time": "2022-12-10T09:57:16.247781",
     "status": "completed"
    },
    "tags": []
   },
   "outputs": [
    {
     "data": {
      "text/plain": [
       "<seaborn.axisgrid.FacetGrid at 0x7f25a51587d0>"
      ]
     },
     "execution_count": 15,
     "metadata": {},
     "output_type": "execute_result"
    },
    {
     "data": {
      "image/png": "[encoded data removed]",
      "text/plain": [
       "<Figure size 360x360 with 1 Axes>"
      ]
     },
     "metadata": {
      "needs_background": "light"
     },
     "output_type": "display_data"
    }
   ],
   "source": [
    "sns.displot(data=full_df, x='Fare')"
   ]
  },
  {
   "cell_type": "code",
   "execution_count": 16,
   "id": "bdafc4ea",
   "metadata": {
    "execution": {
     "iopub.execute_input": "2022-12-10T09:57:16.892451Z",
     "iopub.status.busy": "2022-12-10T09:57:16.892049Z",
     "iopub.status.idle": "2022-12-10T09:57:17.469790Z",
     "shell.execute_reply": "2022-12-10T09:57:17.468514Z"
    },
    "papermill": {
     "duration": 0.595881,
     "end_time": "2022-12-10T09:57:17.472937",
     "exception": false,
     "start_time": "2022-12-10T09:57:16.877056",
     "status": "completed"
    },
    "tags": []
   },
   "outputs": [
    {
     "data": {
      "text/plain": [
       "<seaborn.axisgrid.FacetGrid at 0x7f25a5158890>"
      ]
     },
     "execution_count": 16,
     "metadata": {},
     "output_type": "execute_result"
    },
    {
     "data": {
      "image/png": "[encoded data removed]",
      "text/plain": [
       "<Figure size 411.875x360 with 1 Axes>"
      ]
     },
     "metadata": {
      "needs_background": "light"
     },
     "output_type": "display_data"
    }
   ],
   "source": [
    "Fare_class = pd.qcut(full_df.Fare, q=8, labels=[1, 2, 3, 4, 5, 6, 7, 8])\n",
    "full_df['Fare_class'] = Fare_class.astype(int)\n",
    "sns.displot(data=full_df, x='Fare_class', hue='Survived')"
   ]
  },
  {
   "cell_type": "code",
   "execution_count": 17,
   "id": "0eb622d4",
   "metadata": {
    "execution": {
     "iopub.execute_input": "2022-12-10T09:57:17.508074Z",
     "iopub.status.busy": "2022-12-10T09:57:17.507682Z",
     "iopub.status.idle": "2022-12-10T09:57:17.526362Z",
     "shell.execute_reply": "2022-12-10T09:57:17.525025Z"
    },
    "papermill": {
     "duration": 0.038292,
     "end_time": "2022-12-10T09:57:17.529769",
     "exception": false,
     "start_time": "2022-12-10T09:57:17.491477",
     "status": "completed"
    },
    "tags": []
   },
   "outputs": [
    {
     "data": {
      "text/html": [
       "<div>\n",
       "<style scoped>\n",
       "    .dataframe tbody tr th:only-of-type {\n",
       "        vertical-align: middle;\n",
       "    }\n",
       "\n",
       "    .dataframe tbody tr th {\n",
       "        vertical-align: top;\n",
       "    }\n",
       "\n",
       "    .dataframe thead th {\n",
       "        text-align: right;\n",
       "    }\n",
       "</style>\n",
       "<table border=\"1\" class=\"dataframe\">\n",
       "  <thead>\n",
       "    <tr style=\"text-align: right;\">\n",
       "      <th></th>\n",
       "      <th>Survived</th>\n",
       "      <th>Pclass</th>\n",
       "      <th>Age</th>\n",
       "      <th>SibSp</th>\n",
       "      <th>Parch</th>\n",
       "      <th>Fare</th>\n",
       "      <th>Fare_class</th>\n",
       "    </tr>\n",
       "  </thead>\n",
       "  <tbody>\n",
       "    <tr>\n",
       "      <th>Survived</th>\n",
       "      <td>1.000000</td>\n",
       "      <td>-0.338481</td>\n",
       "      <td>-0.077221</td>\n",
       "      <td>-0.035322</td>\n",
       "      <td>0.081629</td>\n",
       "      <td>0.257307</td>\n",
       "      <td>0.322280</td>\n",
       "    </tr>\n",
       "    <tr>\n",
       "      <th>Pclass</th>\n",
       "      <td>-0.338481</td>\n",
       "      <td>1.000000</td>\n",
       "      <td>-0.408106</td>\n",
       "      <td>0.060832</td>\n",
       "      <td>0.018322</td>\n",
       "      <td>-0.558740</td>\n",
       "      <td>-0.723707</td>\n",
       "    </tr>\n",
       "    <tr>\n",
       "      <th>Age</th>\n",
       "      <td>-0.077221</td>\n",
       "      <td>-0.408106</td>\n",
       "      <td>1.000000</td>\n",
       "      <td>-0.243699</td>\n",
       "      <td>-0.150917</td>\n",
       "      <td>0.177286</td>\n",
       "      <td>0.179247</td>\n",
       "    </tr>\n",
       "    <tr>\n",
       "      <th>SibSp</th>\n",
       "      <td>-0.035322</td>\n",
       "      <td>0.060832</td>\n",
       "      <td>-0.243699</td>\n",
       "      <td>1.000000</td>\n",
       "      <td>0.373587</td>\n",
       "      <td>0.160388</td>\n",
       "      <td>0.343066</td>\n",
       "    </tr>\n",
       "    <tr>\n",
       "      <th>Parch</th>\n",
       "      <td>0.081629</td>\n",
       "      <td>0.018322</td>\n",
       "      <td>-0.150917</td>\n",
       "      <td>0.373587</td>\n",
       "      <td>1.000000</td>\n",
       "      <td>0.221668</td>\n",
       "      <td>0.341250</td>\n",
       "    </tr>\n",
       "    <tr>\n",
       "      <th>Fare</th>\n",
       "      <td>0.257307</td>\n",
       "      <td>-0.558740</td>\n",
       "      <td>0.177286</td>\n",
       "      <td>0.160388</td>\n",
       "      <td>0.221668</td>\n",
       "      <td>1.000000</td>\n",
       "      <td>0.620702</td>\n",
       "    </tr>\n",
       "    <tr>\n",
       "      <th>Fare_class</th>\n",
       "      <td>0.322280</td>\n",
       "      <td>-0.723707</td>\n",
       "      <td>0.179247</td>\n",
       "      <td>0.343066</td>\n",
       "      <td>0.341250</td>\n",
       "      <td>0.620702</td>\n",
       "      <td>1.000000</td>\n",
       "    </tr>\n",
       "  </tbody>\n",
       "</table>\n",
       "</div>"
      ],
      "text/plain": [
       "            Survived    Pclass       Age     SibSp     Parch      Fare  \\\n",
       "Survived    1.000000 -0.338481 -0.077221 -0.035322  0.081629  0.257307   \n",
       "Pclass     -0.338481  1.000000 -0.408106  0.060832  0.018322 -0.558740   \n",
       "Age        -0.077221 -0.408106  1.000000 -0.243699 -0.150917  0.177286   \n",
       "SibSp      -0.035322  0.060832 -0.243699  1.000000  0.373587  0.160388   \n",
       "Parch       0.081629  0.018322 -0.150917  0.373587  1.000000  0.221668   \n",
       "Fare        0.257307 -0.558740  0.177286  0.160388  0.221668  1.000000   \n",
       "Fare_class  0.322280 -0.723707  0.179247  0.343066  0.341250  0.620702   \n",
       "\n",
       "            Fare_class  \n",
       "Survived      0.322280  \n",
       "Pclass       -0.723707  \n",
       "Age           0.179247  \n",
       "SibSp         0.343066  \n",
       "Parch         0.341250  \n",
       "Fare          0.620702  \n",
       "Fare_class    1.000000  "
      ]
     },
     "execution_count": 17,
     "metadata": {},
     "output_type": "execute_result"
    }
   ],
   "source": [
    "full_df.corr()"
   ]
  },
  {
   "cell_type": "code",
   "execution_count": 18,
   "id": "a73feb04",
   "metadata": {
    "execution": {
     "iopub.execute_input": "2022-12-10T09:57:17.565253Z",
     "iopub.status.busy": "2022-12-10T09:57:17.564529Z",
     "iopub.status.idle": "2022-12-10T09:57:17.578968Z",
     "shell.execute_reply": "2022-12-10T09:57:17.578140Z"
    },
    "papermill": {
     "duration": 0.035013,
     "end_time": "2022-12-10T09:57:17.581429",
     "exception": false,
     "start_time": "2022-12-10T09:57:17.546416",
     "status": "completed"
    },
    "tags": []
   },
   "outputs": [],
   "source": [
    "full_df['Title']=0\n",
    "full_df['Title']=full_df.Name.str.extract('([A-Za-z]+)\\.') \n",
    "full_df['Title'].replace(['Mlle','Mme','Ms','Dr','Major','Lady','Countess','Jonkheer','Col',\n",
    "                         'Rev','Capt','Sir','Don'],['Miss','Miss','Miss','Mr','Mr','Mrs','Mrs','Other','Other','Other','Mr','Mr','Mr'],inplace=True)"
   ]
  },
  {
   "cell_type": "code",
   "execution_count": 19,
   "id": "75dc6ec2",
   "metadata": {
    "execution": {
     "iopub.execute_input": "2022-12-10T09:57:17.615094Z",
     "iopub.status.busy": "2022-12-10T09:57:17.614042Z",
     "iopub.status.idle": "2022-12-10T09:57:17.637771Z",
     "shell.execute_reply": "2022-12-10T09:57:17.636891Z"
    },
    "papermill": {
     "duration": 0.044442,
     "end_time": "2022-12-10T09:57:17.639980",
     "exception": false,
     "start_time": "2022-12-10T09:57:17.595538",
     "status": "completed"
    },
    "tags": []
   },
   "outputs": [
    {
     "data": {
      "text/html": [
       "<div>\n",
       "<style scoped>\n",
       "    .dataframe tbody tr th:only-of-type {\n",
       "        vertical-align: middle;\n",
       "    }\n",
       "\n",
       "    .dataframe tbody tr th {\n",
       "        vertical-align: top;\n",
       "    }\n",
       "\n",
       "    .dataframe thead th {\n",
       "        text-align: right;\n",
       "    }\n",
       "</style>\n",
       "<table border=\"1\" class=\"dataframe\">\n",
       "  <thead>\n",
       "    <tr style=\"text-align: right;\">\n",
       "      <th></th>\n",
       "      <th>Survived</th>\n",
       "      <th>Pclass</th>\n",
       "      <th>Name</th>\n",
       "      <th>Sex</th>\n",
       "      <th>Age</th>\n",
       "      <th>SibSp</th>\n",
       "      <th>Parch</th>\n",
       "      <th>Fare</th>\n",
       "      <th>Embarked</th>\n",
       "      <th>Fare_class</th>\n",
       "      <th>Title</th>\n",
       "    </tr>\n",
       "  </thead>\n",
       "  <tbody>\n",
       "    <tr>\n",
       "      <th>0</th>\n",
       "      <td>0.0</td>\n",
       "      <td>3</td>\n",
       "      <td>Braund, Mr. Owen Harris</td>\n",
       "      <td>male</td>\n",
       "      <td>22.0</td>\n",
       "      <td>1</td>\n",
       "      <td>0</td>\n",
       "      <td>7.2500</td>\n",
       "      <td>S</td>\n",
       "      <td>1</td>\n",
       "      <td>Mr</td>\n",
       "    </tr>\n",
       "    <tr>\n",
       "      <th>1</th>\n",
       "      <td>1.0</td>\n",
       "      <td>1</td>\n",
       "      <td>Cumings, Mrs. John Bradley (Florence Briggs Th...</td>\n",
       "      <td>female</td>\n",
       "      <td>38.0</td>\n",
       "      <td>1</td>\n",
       "      <td>0</td>\n",
       "      <td>71.2833</td>\n",
       "      <td>C</td>\n",
       "      <td>8</td>\n",
       "      <td>Mrs</td>\n",
       "    </tr>\n",
       "    <tr>\n",
       "      <th>2</th>\n",
       "      <td>1.0</td>\n",
       "      <td>3</td>\n",
       "      <td>Heikkinen, Miss. Laina</td>\n",
       "      <td>female</td>\n",
       "      <td>26.0</td>\n",
       "      <td>0</td>\n",
       "      <td>0</td>\n",
       "      <td>7.9250</td>\n",
       "      <td>S</td>\n",
       "      <td>3</td>\n",
       "      <td>Miss</td>\n",
       "    </tr>\n",
       "    <tr>\n",
       "      <th>3</th>\n",
       "      <td>1.0</td>\n",
       "      <td>1</td>\n",
       "      <td>Futrelle, Mrs. Jacques Heath (Lily May Peel)</td>\n",
       "      <td>female</td>\n",
       "      <td>35.0</td>\n",
       "      <td>1</td>\n",
       "      <td>0</td>\n",
       "      <td>53.1000</td>\n",
       "      <td>S</td>\n",
       "      <td>7</td>\n",
       "      <td>Mrs</td>\n",
       "    </tr>\n",
       "    <tr>\n",
       "      <th>4</th>\n",
       "      <td>0.0</td>\n",
       "      <td>3</td>\n",
       "      <td>Allen, Mr. William Henry</td>\n",
       "      <td>male</td>\n",
       "      <td>35.0</td>\n",
       "      <td>0</td>\n",
       "      <td>0</td>\n",
       "      <td>8.0500</td>\n",
       "      <td>S</td>\n",
       "      <td>3</td>\n",
       "      <td>Mr</td>\n",
       "    </tr>\n",
       "    <tr>\n",
       "      <th>...</th>\n",
       "      <td>...</td>\n",
       "      <td>...</td>\n",
       "      <td>...</td>\n",
       "      <td>...</td>\n",
       "      <td>...</td>\n",
       "      <td>...</td>\n",
       "      <td>...</td>\n",
       "      <td>...</td>\n",
       "      <td>...</td>\n",
       "      <td>...</td>\n",
       "      <td>...</td>\n",
       "    </tr>\n",
       "    <tr>\n",
       "      <th>1304</th>\n",
       "      <td>NaN</td>\n",
       "      <td>3</td>\n",
       "      <td>Spector, Mr. Woolf</td>\n",
       "      <td>male</td>\n",
       "      <td>NaN</td>\n",
       "      <td>0</td>\n",
       "      <td>0</td>\n",
       "      <td>8.0500</td>\n",
       "      <td>S</td>\n",
       "      <td>3</td>\n",
       "      <td>Mr</td>\n",
       "    </tr>\n",
       "    <tr>\n",
       "      <th>1305</th>\n",
       "      <td>NaN</td>\n",
       "      <td>1</td>\n",
       "      <td>Oliva y Ocana, Dona. Fermina</td>\n",
       "      <td>female</td>\n",
       "      <td>39.0</td>\n",
       "      <td>0</td>\n",
       "      <td>0</td>\n",
       "      <td>108.9000</td>\n",
       "      <td>C</td>\n",
       "      <td>8</td>\n",
       "      <td>Dona</td>\n",
       "    </tr>\n",
       "    <tr>\n",
       "      <th>1306</th>\n",
       "      <td>NaN</td>\n",
       "      <td>3</td>\n",
       "      <td>Saether, Mr. Simon Sivertsen</td>\n",
       "      <td>male</td>\n",
       "      <td>38.5</td>\n",
       "      <td>0</td>\n",
       "      <td>0</td>\n",
       "      <td>7.2500</td>\n",
       "      <td>S</td>\n",
       "      <td>1</td>\n",
       "      <td>Mr</td>\n",
       "    </tr>\n",
       "    <tr>\n",
       "      <th>1307</th>\n",
       "      <td>NaN</td>\n",
       "      <td>3</td>\n",
       "      <td>Ware, Mr. Frederick</td>\n",
       "      <td>male</td>\n",
       "      <td>NaN</td>\n",
       "      <td>0</td>\n",
       "      <td>0</td>\n",
       "      <td>8.0500</td>\n",
       "      <td>S</td>\n",
       "      <td>3</td>\n",
       "      <td>Mr</td>\n",
       "    </tr>\n",
       "    <tr>\n",
       "      <th>1308</th>\n",
       "      <td>NaN</td>\n",
       "      <td>3</td>\n",
       "      <td>Peter, Master. Michael J</td>\n",
       "      <td>male</td>\n",
       "      <td>NaN</td>\n",
       "      <td>1</td>\n",
       "      <td>1</td>\n",
       "      <td>22.3583</td>\n",
       "      <td>C</td>\n",
       "      <td>5</td>\n",
       "      <td>Master</td>\n",
       "    </tr>\n",
       "  </tbody>\n",
       "</table>\n",
       "<p>1309 rows × 11 columns</p>\n",
       "</div>"
      ],
      "text/plain": [
       "      Survived  Pclass                                               Name  \\\n",
       "0          0.0       3                            Braund, Mr. Owen Harris   \n",
       "1          1.0       1  Cumings, Mrs. John Bradley (Florence Briggs Th...   \n",
       "2          1.0       3                             Heikkinen, Miss. Laina   \n",
       "3          1.0       1       Futrelle, Mrs. Jacques Heath (Lily May Peel)   \n",
       "4          0.0       3                           Allen, Mr. William Henry   \n",
       "...        ...     ...                                                ...   \n",
       "1304       NaN       3                                 Spector, Mr. Woolf   \n",
       "1305       NaN       1                       Oliva y Ocana, Dona. Fermina   \n",
       "1306       NaN       3                       Saether, Mr. Simon Sivertsen   \n",
       "1307       NaN       3                                Ware, Mr. Frederick   \n",
       "1308       NaN       3                           Peter, Master. Michael J   \n",
       "\n",
       "         Sex   Age  SibSp  Parch      Fare Embarked  Fare_class   Title  \n",
       "0       male  22.0      1      0    7.2500        S           1      Mr  \n",
       "1     female  38.0      1      0   71.2833        C           8     Mrs  \n",
       "2     female  26.0      0      0    7.9250        S           3    Miss  \n",
       "3     female  35.0      1      0   53.1000        S           7     Mrs  \n",
       "4       male  35.0      0      0    8.0500        S           3      Mr  \n",
       "...      ...   ...    ...    ...       ...      ...         ...     ...  \n",
       "1304    male   NaN      0      0    8.0500        S           3      Mr  \n",
       "1305  female  39.0      0      0  108.9000        C           8    Dona  \n",
       "1306    male  38.5      0      0    7.2500        S           1      Mr  \n",
       "1307    male   NaN      0      0    8.0500        S           3      Mr  \n",
       "1308    male   NaN      1      1   22.3583        C           5  Master  \n",
       "\n",
       "[1309 rows x 11 columns]"
      ]
     },
     "execution_count": 19,
     "metadata": {},
     "output_type": "execute_result"
    }
   ],
   "source": [
    "full_df"
   ]
  },
  {
   "cell_type": "code",
   "execution_count": 20,
   "id": "c650b569",
   "metadata": {
    "execution": {
     "iopub.execute_input": "2022-12-10T09:57:17.674716Z",
     "iopub.status.busy": "2022-12-10T09:57:17.674002Z",
     "iopub.status.idle": "2022-12-10T09:57:18.103154Z",
     "shell.execute_reply": "2022-12-10T09:57:18.101987Z"
    },
    "papermill": {
     "duration": 0.448061,
     "end_time": "2022-12-10T09:57:18.106198",
     "exception": false,
     "start_time": "2022-12-10T09:57:17.658137",
     "status": "completed"
    },
    "tags": []
   },
   "outputs": [
    {
     "data": {
      "text/plain": [
       "<seaborn.axisgrid.FacetGrid at 0x7f25a2da1e10>"
      ]
     },
     "execution_count": 20,
     "metadata": {},
     "output_type": "execute_result"
    },
    {
     "data": {
      "image/png": "[encoded data removed]",
      "text/plain": [
       "<Figure size 360x360 with 1 Axes>"
      ]
     },
     "metadata": {
      "needs_background": "light"
     },
     "output_type": "display_data"
    }
   ],
   "source": [
    "sns.catplot(data=full_df, y='Age', x='Title', kind='bar')"
   ]
  },
  {
   "cell_type": "code",
   "execution_count": 21,
   "id": "53b116f7",
   "metadata": {
    "execution": {
     "iopub.execute_input": "2022-12-10T09:57:18.142923Z",
     "iopub.status.busy": "2022-12-10T09:57:18.142016Z",
     "iopub.status.idle": "2022-12-10T09:57:18.152975Z",
     "shell.execute_reply": "2022-12-10T09:57:18.151975Z"
    },
    "papermill": {
     "duration": 0.029686,
     "end_time": "2022-12-10T09:57:18.155312",
     "exception": false,
     "start_time": "2022-12-10T09:57:18.125626",
     "status": "completed"
    },
    "tags": []
   },
   "outputs": [
    {
     "data": {
      "text/plain": [
       "Survived      418\n",
       "Pclass          0\n",
       "Name            0\n",
       "Sex             0\n",
       "Age           263\n",
       "SibSp           0\n",
       "Parch           0\n",
       "Fare            0\n",
       "Embarked        0\n",
       "Fare_class      0\n",
       "Title           0\n",
       "dtype: int64"
      ]
     },
     "execution_count": 21,
     "metadata": {},
     "output_type": "execute_result"
    }
   ],
   "source": [
    "full_df.isna().sum()"
   ]
  },
  {
   "cell_type": "code",
   "execution_count": 22,
   "id": "528847f4",
   "metadata": {
    "execution": {
     "iopub.execute_input": "2022-12-10T09:57:18.189159Z",
     "iopub.status.busy": "2022-12-10T09:57:18.188264Z",
     "iopub.status.idle": "2022-12-10T09:57:18.204606Z",
     "shell.execute_reply": "2022-12-10T09:57:18.203398Z"
    },
    "papermill": {
     "duration": 0.035867,
     "end_time": "2022-12-10T09:57:18.206940",
     "exception": false,
     "start_time": "2022-12-10T09:57:18.171073",
     "status": "completed"
    },
    "tags": []
   },
   "outputs": [
    {
     "data": {
      "text/plain": [
       "Survived     -0.077221\n",
       "Pclass       -0.408106\n",
       "SibSp        -0.243699\n",
       "Parch        -0.150917\n",
       "Fare          0.177286\n",
       "Fare_class    0.179247\n",
       "dtype: float64"
      ]
     },
     "execution_count": 22,
     "metadata": {},
     "output_type": "execute_result"
    }
   ],
   "source": [
    "full_df.drop(['Age'], axis=1).corrwith(other=full_df.Age)"
   ]
  },
  {
   "cell_type": "code",
   "execution_count": 23,
   "id": "aa73da26",
   "metadata": {
    "execution": {
     "iopub.execute_input": "2022-12-10T09:57:18.240907Z",
     "iopub.status.busy": "2022-12-10T09:57:18.240106Z",
     "iopub.status.idle": "2022-12-10T09:57:18.252059Z",
     "shell.execute_reply": "2022-12-10T09:57:18.251014Z"
    },
    "papermill": {
     "duration": 0.034017,
     "end_time": "2022-12-10T09:57:18.256676",
     "exception": false,
     "start_time": "2022-12-10T09:57:18.222659",
     "status": "completed"
    },
    "tags": []
   },
   "outputs": [
    {
     "data": {
      "text/plain": [
       "count    1046.000000\n",
       "mean       29.881138\n",
       "std        14.413493\n",
       "min         0.170000\n",
       "25%        21.000000\n",
       "50%        28.000000\n",
       "75%        39.000000\n",
       "max        80.000000\n",
       "Name: Age, dtype: float64"
      ]
     },
     "execution_count": 23,
     "metadata": {},
     "output_type": "execute_result"
    }
   ],
   "source": [
    "full_df.Age.describe()"
   ]
  },
  {
   "cell_type": "code",
   "execution_count": 24,
   "id": "1bf00e0e",
   "metadata": {
    "execution": {
     "iopub.execute_input": "2022-12-10T09:57:18.295489Z",
     "iopub.status.busy": "2022-12-10T09:57:18.294812Z",
     "iopub.status.idle": "2022-12-10T09:57:20.161085Z",
     "shell.execute_reply": "2022-12-10T09:57:20.159988Z"
    },
    "papermill": {
     "duration": 1.88858,
     "end_time": "2022-12-10T09:57:20.163289",
     "exception": false,
     "start_time": "2022-12-10T09:57:18.274709",
     "status": "completed"
    },
    "tags": []
   },
   "outputs": [
    {
     "data": {
      "text/plain": [
       "<seaborn.axisgrid.FacetGrid at 0x7f25a2d20a50>"
      ]
     },
     "execution_count": 24,
     "metadata": {},
     "output_type": "execute_result"
    },
    {
     "data": {
      "image/png": "[encoded data removed]",
      "text/plain": [
       "<Figure size 360x360 with 1 Axes>"
      ]
     },
     "metadata": {
      "needs_background": "light"
     },
     "output_type": "display_data"
    },
    {
     "data": {
      "image/png": "[encoded data removed]",
      "text/plain": [
       "<Figure size 360x360 with 1 Axes>"
      ]
     },
     "metadata": {
      "needs_background": "light"
     },
     "output_type": "display_data"
    },
    {
     "data": {
      "image/png": "[encoded data removed]",
      "text/plain": [
       "<Figure size 360x360 with 1 Axes>"
      ]
     },
     "metadata": {
      "needs_background": "light"
     },
     "output_type": "display_data"
    },
    {
     "data": {
      "image/png": "[encoded data removed]",
      "text/plain": [
       "<Figure size 360x360 with 1 Axes>"
      ]
     },
     "metadata": {
      "needs_background": "light"
     },
     "output_type": "display_data"
    }
   ],
   "source": [
    "sns.catplot(data=full_df, y='Age', x='Pclass', kind='bar')\n",
    "sns.catplot(data=full_df, y='Age', x='SibSp', kind='bar')\n",
    "sns.catplot(data=full_df, y='Age', x='Parch', kind='bar')\n",
    "sns.catplot(data=full_df, y='Age', x='Fare_class', kind='bar')\n"
   ]
  },
  {
   "cell_type": "code",
   "execution_count": 25,
   "id": "02eff8b1",
   "metadata": {
    "execution": {
     "iopub.execute_input": "2022-12-10T09:57:20.197715Z",
     "iopub.status.busy": "2022-12-10T09:57:20.197256Z",
     "iopub.status.idle": "2022-12-10T09:57:20.207894Z",
     "shell.execute_reply": "2022-12-10T09:57:20.206597Z"
    },
    "papermill": {
     "duration": 0.0307,
     "end_time": "2022-12-10T09:57:20.210412",
     "exception": false,
     "start_time": "2022-12-10T09:57:20.179712",
     "status": "completed"
    },
    "tags": []
   },
   "outputs": [],
   "source": [
    "le = LabelEncoder()\n",
    "categorical_features = ['Sex', 'Title', 'Embarked']\n",
    "full_df_enc = full_df.copy()\n",
    "for feature  in categorical_features: \n",
    "    feature_enc = le.fit_transform(full_df[feature])\n",
    "    full_df_enc[feature] = pd.Series(feature_enc.reshape(-1,))\n"
   ]
  },
  {
   "cell_type": "code",
   "execution_count": 26,
   "id": "b8ab20b6",
   "metadata": {
    "execution": {
     "iopub.execute_input": "2022-12-10T09:57:20.244489Z",
     "iopub.status.busy": "2022-12-10T09:57:20.244064Z",
     "iopub.status.idle": "2022-12-10T09:57:20.268631Z",
     "shell.execute_reply": "2022-12-10T09:57:20.267547Z"
    },
    "papermill": {
     "duration": 0.044489,
     "end_time": "2022-12-10T09:57:20.271039",
     "exception": false,
     "start_time": "2022-12-10T09:57:20.226550",
     "status": "completed"
    },
    "tags": []
   },
   "outputs": [
    {
     "data": {
      "text/html": [
       "<div>\n",
       "<style scoped>\n",
       "    .dataframe tbody tr th:only-of-type {\n",
       "        vertical-align: middle;\n",
       "    }\n",
       "\n",
       "    .dataframe tbody tr th {\n",
       "        vertical-align: top;\n",
       "    }\n",
       "\n",
       "    .dataframe thead th {\n",
       "        text-align: right;\n",
       "    }\n",
       "</style>\n",
       "<table border=\"1\" class=\"dataframe\">\n",
       "  <thead>\n",
       "    <tr style=\"text-align: right;\">\n",
       "      <th></th>\n",
       "      <th>Survived</th>\n",
       "      <th>Pclass</th>\n",
       "      <th>Name</th>\n",
       "      <th>Sex</th>\n",
       "      <th>Age</th>\n",
       "      <th>SibSp</th>\n",
       "      <th>Parch</th>\n",
       "      <th>Fare</th>\n",
       "      <th>Embarked</th>\n",
       "      <th>Fare_class</th>\n",
       "      <th>Title</th>\n",
       "    </tr>\n",
       "  </thead>\n",
       "  <tbody>\n",
       "    <tr>\n",
       "      <th>0</th>\n",
       "      <td>0.0</td>\n",
       "      <td>3</td>\n",
       "      <td>Braund, Mr. Owen Harris</td>\n",
       "      <td>1</td>\n",
       "      <td>22.0</td>\n",
       "      <td>1</td>\n",
       "      <td>0</td>\n",
       "      <td>7.2500</td>\n",
       "      <td>2</td>\n",
       "      <td>1</td>\n",
       "      <td>3</td>\n",
       "    </tr>\n",
       "    <tr>\n",
       "      <th>1</th>\n",
       "      <td>1.0</td>\n",
       "      <td>1</td>\n",
       "      <td>Cumings, Mrs. John Bradley (Florence Briggs Th...</td>\n",
       "      <td>0</td>\n",
       "      <td>38.0</td>\n",
       "      <td>1</td>\n",
       "      <td>0</td>\n",
       "      <td>71.2833</td>\n",
       "      <td>0</td>\n",
       "      <td>8</td>\n",
       "      <td>4</td>\n",
       "    </tr>\n",
       "    <tr>\n",
       "      <th>2</th>\n",
       "      <td>1.0</td>\n",
       "      <td>3</td>\n",
       "      <td>Heikkinen, Miss. Laina</td>\n",
       "      <td>0</td>\n",
       "      <td>26.0</td>\n",
       "      <td>0</td>\n",
       "      <td>0</td>\n",
       "      <td>7.9250</td>\n",
       "      <td>2</td>\n",
       "      <td>3</td>\n",
       "      <td>2</td>\n",
       "    </tr>\n",
       "    <tr>\n",
       "      <th>3</th>\n",
       "      <td>1.0</td>\n",
       "      <td>1</td>\n",
       "      <td>Futrelle, Mrs. Jacques Heath (Lily May Peel)</td>\n",
       "      <td>0</td>\n",
       "      <td>35.0</td>\n",
       "      <td>1</td>\n",
       "      <td>0</td>\n",
       "      <td>53.1000</td>\n",
       "      <td>2</td>\n",
       "      <td>7</td>\n",
       "      <td>4</td>\n",
       "    </tr>\n",
       "    <tr>\n",
       "      <th>4</th>\n",
       "      <td>0.0</td>\n",
       "      <td>3</td>\n",
       "      <td>Allen, Mr. William Henry</td>\n",
       "      <td>1</td>\n",
       "      <td>35.0</td>\n",
       "      <td>0</td>\n",
       "      <td>0</td>\n",
       "      <td>8.0500</td>\n",
       "      <td>2</td>\n",
       "      <td>3</td>\n",
       "      <td>3</td>\n",
       "    </tr>\n",
       "    <tr>\n",
       "      <th>...</th>\n",
       "      <td>...</td>\n",
       "      <td>...</td>\n",
       "      <td>...</td>\n",
       "      <td>...</td>\n",
       "      <td>...</td>\n",
       "      <td>...</td>\n",
       "      <td>...</td>\n",
       "      <td>...</td>\n",
       "      <td>...</td>\n",
       "      <td>...</td>\n",
       "      <td>...</td>\n",
       "    </tr>\n",
       "    <tr>\n",
       "      <th>1304</th>\n",
       "      <td>NaN</td>\n",
       "      <td>3</td>\n",
       "      <td>Spector, Mr. Woolf</td>\n",
       "      <td>1</td>\n",
       "      <td>NaN</td>\n",
       "      <td>0</td>\n",
       "      <td>0</td>\n",
       "      <td>8.0500</td>\n",
       "      <td>2</td>\n",
       "      <td>3</td>\n",
       "      <td>3</td>\n",
       "    </tr>\n",
       "    <tr>\n",
       "      <th>1305</th>\n",
       "      <td>NaN</td>\n",
       "      <td>1</td>\n",
       "      <td>Oliva y Ocana, Dona. Fermina</td>\n",
       "      <td>0</td>\n",
       "      <td>39.0</td>\n",
       "      <td>0</td>\n",
       "      <td>0</td>\n",
       "      <td>108.9000</td>\n",
       "      <td>0</td>\n",
       "      <td>8</td>\n",
       "      <td>0</td>\n",
       "    </tr>\n",
       "    <tr>\n",
       "      <th>1306</th>\n",
       "      <td>NaN</td>\n",
       "      <td>3</td>\n",
       "      <td>Saether, Mr. Simon Sivertsen</td>\n",
       "      <td>1</td>\n",
       "      <td>38.5</td>\n",
       "      <td>0</td>\n",
       "      <td>0</td>\n",
       "      <td>7.2500</td>\n",
       "      <td>2</td>\n",
       "      <td>1</td>\n",
       "      <td>3</td>\n",
       "    </tr>\n",
       "    <tr>\n",
       "      <th>1307</th>\n",
       "      <td>NaN</td>\n",
       "      <td>3</td>\n",
       "      <td>Ware, Mr. Frederick</td>\n",
       "      <td>1</td>\n",
       "      <td>NaN</td>\n",
       "      <td>0</td>\n",
       "      <td>0</td>\n",
       "      <td>8.0500</td>\n",
       "      <td>2</td>\n",
       "      <td>3</td>\n",
       "      <td>3</td>\n",
       "    </tr>\n",
       "    <tr>\n",
       "      <th>1308</th>\n",
       "      <td>NaN</td>\n",
       "      <td>3</td>\n",
       "      <td>Peter, Master. Michael J</td>\n",
       "      <td>1</td>\n",
       "      <td>NaN</td>\n",
       "      <td>1</td>\n",
       "      <td>1</td>\n",
       "      <td>22.3583</td>\n",
       "      <td>0</td>\n",
       "      <td>5</td>\n",
       "      <td>1</td>\n",
       "    </tr>\n",
       "  </tbody>\n",
       "</table>\n",
       "<p>1309 rows × 11 columns</p>\n",
       "</div>"
      ],
      "text/plain": [
       "      Survived  Pclass                                               Name  \\\n",
       "0          0.0       3                            Braund, Mr. Owen Harris   \n",
       "1          1.0       1  Cumings, Mrs. John Bradley (Florence Briggs Th...   \n",
       "2          1.0       3                             Heikkinen, Miss. Laina   \n",
       "3          1.0       1       Futrelle, Mrs. Jacques Heath (Lily May Peel)   \n",
       "4          0.0       3                           Allen, Mr. William Henry   \n",
       "...        ...     ...                                                ...   \n",
       "1304       NaN       3                                 Spector, Mr. Woolf   \n",
       "1305       NaN       1                       Oliva y Ocana, Dona. Fermina   \n",
       "1306       NaN       3                       Saether, Mr. Simon Sivertsen   \n",
       "1307       NaN       3                                Ware, Mr. Frederick   \n",
       "1308       NaN       3                           Peter, Master. Michael J   \n",
       "\n",
       "      Sex   Age  SibSp  Parch      Fare  Embarked  Fare_class  Title  \n",
       "0       1  22.0      1      0    7.2500         2           1      3  \n",
       "1       0  38.0      1      0   71.2833         0           8      4  \n",
       "2       0  26.0      0      0    7.9250         2           3      2  \n",
       "3       0  35.0      1      0   53.1000         2           7      4  \n",
       "4       1  35.0      0      0    8.0500         2           3      3  \n",
       "...   ...   ...    ...    ...       ...       ...         ...    ...  \n",
       "1304    1   NaN      0      0    8.0500         2           3      3  \n",
       "1305    0  39.0      0      0  108.9000         0           8      0  \n",
       "1306    1  38.5      0      0    7.2500         2           1      3  \n",
       "1307    1   NaN      0      0    8.0500         2           3      3  \n",
       "1308    1   NaN      1      1   22.3583         0           5      1  \n",
       "\n",
       "[1309 rows x 11 columns]"
      ]
     },
     "execution_count": 26,
     "metadata": {},
     "output_type": "execute_result"
    }
   ],
   "source": [
    "full_df_enc"
   ]
  },
  {
   "cell_type": "code",
   "execution_count": 27,
   "id": "11dab580",
   "metadata": {
    "execution": {
     "iopub.execute_input": "2022-12-10T09:57:20.306728Z",
     "iopub.status.busy": "2022-12-10T09:57:20.306300Z",
     "iopub.status.idle": "2022-12-10T09:57:21.135724Z",
     "shell.execute_reply": "2022-12-10T09:57:21.134470Z"
    },
    "papermill": {
     "duration": 0.850868,
     "end_time": "2022-12-10T09:57:21.138634",
     "exception": false,
     "start_time": "2022-12-10T09:57:20.287766",
     "status": "completed"
    },
    "tags": []
   },
   "outputs": [
    {
     "data": {
      "text/plain": [
       "<AxesSubplot:>"
      ]
     },
     "execution_count": 27,
     "metadata": {},
     "output_type": "execute_result"
    },
    {
     "data": {
      "image/png": "[encoded data removed]",
      "text/plain": [
       "<Figure size 432x288 with 2 Axes>"
      ]
     },
     "metadata": {
      "needs_background": "light"
     },
     "output_type": "display_data"
    }
   ],
   "source": [
    "sns.heatmap(data=full_df_enc.corr(), annot=True)"
   ]
  },
  {
   "cell_type": "code",
   "execution_count": 28,
   "id": "7f730187",
   "metadata": {
    "execution": {
     "iopub.execute_input": "2022-12-10T09:57:21.177631Z",
     "iopub.status.busy": "2022-12-10T09:57:21.176841Z",
     "iopub.status.idle": "2022-12-10T09:57:22.119332Z",
     "shell.execute_reply": "2022-12-10T09:57:22.118050Z"
    },
    "papermill": {
     "duration": 0.96534,
     "end_time": "2022-12-10T09:57:22.122637",
     "exception": false,
     "start_time": "2022-12-10T09:57:21.157297",
     "status": "completed"
    },
    "tags": []
   },
   "outputs": [
    {
     "data": {
      "text/plain": [
       "<AxesSubplot:>"
      ]
     },
     "execution_count": 28,
     "metadata": {},
     "output_type": "execute_result"
    },
    {
     "data": {
      "image/png": "[encoded data removed]",
      "text/plain": [
       "<Figure size 432x288 with 2 Axes>"
      ]
     },
     "metadata": {
      "needs_background": "light"
     },
     "output_type": "display_data"
    }
   ],
   "source": [
    "sns.heatmap(data=full_df_enc.corr(), annot=True)"
   ]
  },
  {
   "cell_type": "code",
   "execution_count": 29,
   "id": "ffdc34b0",
   "metadata": {
    "execution": {
     "iopub.execute_input": "2022-12-10T09:57:22.162973Z",
     "iopub.status.busy": "2022-12-10T09:57:22.162598Z",
     "iopub.status.idle": "2022-12-10T09:57:22.170145Z",
     "shell.execute_reply": "2022-12-10T09:57:22.168649Z"
    },
    "papermill": {
     "duration": 0.030673,
     "end_time": "2022-12-10T09:57:22.172623",
     "exception": false,
     "start_time": "2022-12-10T09:57:22.141950",
     "status": "completed"
    },
    "tags": []
   },
   "outputs": [],
   "source": [
    "full_df_enc.loc[full_df_enc['Title'] == 0, 'Title'] = 4"
   ]
  },
  {
   "cell_type": "code",
   "execution_count": 30,
   "id": "4e465a61",
   "metadata": {
    "execution": {
     "iopub.execute_input": "2022-12-10T09:57:22.214139Z",
     "iopub.status.busy": "2022-12-10T09:57:22.213284Z",
     "iopub.status.idle": "2022-12-10T09:57:22.228678Z",
     "shell.execute_reply": "2022-12-10T09:57:22.227637Z"
    },
    "papermill": {
     "duration": 0.038624,
     "end_time": "2022-12-10T09:57:22.231141",
     "exception": false,
     "start_time": "2022-12-10T09:57:22.192517",
     "status": "completed"
    },
    "tags": []
   },
   "outputs": [
    {
     "data": {
      "text/plain": [
       "Survived     -0.077221\n",
       "Pclass       -0.408106\n",
       "Sex           0.063645\n",
       "SibSp        -0.243699\n",
       "Parch        -0.150917\n",
       "Fare          0.177286\n",
       "Embarked     -0.080195\n",
       "Fare_class    0.179247\n",
       "Title         0.505016\n",
       "dtype: float64"
      ]
     },
     "execution_count": 30,
     "metadata": {},
     "output_type": "execute_result"
    }
   ],
   "source": [
    "full_df_enc.drop(['Age'], axis=1).corrwith(other=full_df_enc.Age)"
   ]
  },
  {
   "cell_type": "code",
   "execution_count": 31,
   "id": "c6463fe7",
   "metadata": {
    "execution": {
     "iopub.execute_input": "2022-12-10T09:57:22.272420Z",
     "iopub.status.busy": "2022-12-10T09:57:22.272018Z",
     "iopub.status.idle": "2022-12-10T09:57:22.283523Z",
     "shell.execute_reply": "2022-12-10T09:57:22.282645Z"
    },
    "papermill": {
     "duration": 0.034725,
     "end_time": "2022-12-10T09:57:22.285987",
     "exception": false,
     "start_time": "2022-12-10T09:57:22.251262",
     "status": "completed"
    },
    "tags": []
   },
   "outputs": [],
   "source": [
    "X = full_df_enc[full_df_enc['Age'].notna()].drop(['Age', 'Name', 'Survived'], axis=1)\n",
    "y = full_df_enc[full_df_enc['Age'].notna()].Age\n",
    "X_train, X_test, y_train, y_test = train_test_split(X, y, test_size=0.1, random_state=0, stratify=X['Title'])"
   ]
  },
  {
   "cell_type": "code",
   "execution_count": 32,
   "id": "57086e33",
   "metadata": {
    "execution": {
     "iopub.execute_input": "2022-12-10T09:57:22.326746Z",
     "iopub.status.busy": "2022-12-10T09:57:22.325541Z",
     "iopub.status.idle": "2022-12-10T09:57:29.816155Z",
     "shell.execute_reply": "2022-12-10T09:57:29.814868Z"
    },
    "papermill": {
     "duration": 7.514928,
     "end_time": "2022-12-10T09:57:29.820218",
     "exception": false,
     "start_time": "2022-12-10T09:57:22.305290",
     "status": "completed"
    },
    "tags": []
   },
   "outputs": [
    {
     "name": "stdout",
     "output_type": "stream",
     "text": [
      "      Iter       Train Loss   Remaining Time \n",
      "         1         102.8716            8.29s\n",
      "         2         100.9939            8.30s\n",
      "         3          99.1788            8.20s\n",
      "         4          97.4216            8.13s\n",
      "         5          95.7196            8.05s\n",
      "         6          94.0732            8.00s\n",
      "         7          92.4790            8.09s\n",
      "         8          90.9349            8.05s\n",
      "         9          89.4405            8.09s\n",
      "        10          88.0954            8.06s\n",
      "        20          76.4631            8.16s\n",
      "        30          67.7350            7.98s\n",
      "        40          61.8180            7.85s\n",
      "        50          58.0178            7.70s\n",
      "        60          55.2027            7.59s\n",
      "        70          53.2457            7.54s\n",
      "        80          51.7856            7.45s\n",
      "        90          50.5997            7.39s\n",
      "       100          49.8065            7.30s\n",
      "       200          43.7665            6.47s\n",
      "       300          40.2002            5.75s\n",
      "       400          37.3918            5.06s\n",
      "       500          35.2162            4.40s\n",
      "       600          33.5980            3.76s\n",
      "       700          32.3176            3.12s\n",
      "       800          31.3784            2.50s\n",
      "       900          30.1548            1.86s\n",
      "      1000          29.1841            1.23s\n",
      "GradientBoostingRegressor(learning_rate=0.018, loss='huber', max_depth=4,\n",
      "                          n_estimators=1200, random_state=0, verbose=1,\n",
      "                          warm_start=True)\n",
      "0.6870773792117117\n",
      " test_score: 0.617727437876854\n"
     ]
    }
   ],
   "source": [
    "regr_3 = GradientBoostingRegressor(random_state=0, max_depth=4, n_estimators=1200, \n",
    "                                   learning_rate=0.018, loss='huber', warm_start=True, verbose=1)\n",
    "\n",
    "regressors = [regr_3]\n",
    "for regressor in regressors:\n",
    "    pipe = Pipeline([('scaler', StandardScaler()), ('regr', regressor)])\n",
    "    pipe.fit(X_train, y_train)\n",
    "\n",
    "    print(regressor)\n",
    "    print(pipe.score(X_train, y_train))\n",
    "    print(f' test_score: {pipe.score(X_test, y_test)}')\n",
    "    \n"
   ]
  },
  {
   "cell_type": "code",
   "execution_count": 33,
   "id": "81560c7e",
   "metadata": {
    "execution": {
     "iopub.execute_input": "2022-12-10T09:57:29.863612Z",
     "iopub.status.busy": "2022-12-10T09:57:29.863129Z",
     "iopub.status.idle": "2022-12-10T09:57:29.882284Z",
     "shell.execute_reply": "2022-12-10T09:57:29.881034Z"
    },
    "papermill": {
     "duration": 0.043606,
     "end_time": "2022-12-10T09:57:29.884807",
     "exception": false,
     "start_time": "2022-12-10T09:57:29.841201",
     "status": "completed"
    },
    "tags": []
   },
   "outputs": [
    {
     "data": {
      "text/plain": [
       "count    105.000000\n",
       "mean       1.116978\n",
       "std        8.181684\n",
       "min      -19.750954\n",
       "25%       -4.098607\n",
       "50%        0.852223\n",
       "75%        6.851564\n",
       "max       26.049664\n",
       "Name: Age, dtype: float64"
      ]
     },
     "execution_count": 33,
     "metadata": {},
     "output_type": "execute_result"
    }
   ],
   "source": [
    "pd.Series(pipe.predict(X_test)-y_test).describe()"
   ]
  },
  {
   "cell_type": "code",
   "execution_count": 34,
   "id": "004bfd76",
   "metadata": {
    "execution": {
     "iopub.execute_input": "2022-12-10T09:57:29.928271Z",
     "iopub.status.busy": "2022-12-10T09:57:29.927821Z",
     "iopub.status.idle": "2022-12-10T09:57:29.943210Z",
     "shell.execute_reply": "2022-12-10T09:57:29.941792Z"
    },
    "papermill": {
     "duration": 0.040642,
     "end_time": "2022-12-10T09:57:29.946109",
     "exception": false,
     "start_time": "2022-12-10T09:57:29.905467",
     "status": "completed"
    },
    "tags": []
   },
   "outputs": [
    {
     "name": "stdout",
     "output_type": "stream",
     "text": [
      "<class 'pandas.core.frame.DataFrame'>\n",
      "RangeIndex: 1309 entries, 0 to 1308\n",
      "Data columns (total 11 columns):\n",
      " #   Column      Non-Null Count  Dtype  \n",
      "---  ------      --------------  -----  \n",
      " 0   Survived    891 non-null    float64\n",
      " 1   Pclass      1309 non-null   int64  \n",
      " 2   Name        1309 non-null   object \n",
      " 3   Sex         1309 non-null   int64  \n",
      " 4   Age         1046 non-null   float64\n",
      " 5   SibSp       1309 non-null   int64  \n",
      " 6   Parch       1309 non-null   int64  \n",
      " 7   Fare        1309 non-null   float64\n",
      " 8   Embarked    1309 non-null   int64  \n",
      " 9   Fare_class  1309 non-null   int64  \n",
      " 10  Title       1309 non-null   int64  \n",
      "dtypes: float64(3), int64(7), object(1)\n",
      "memory usage: 112.6+ KB\n"
     ]
    }
   ],
   "source": [
    "full_df_enc.info()"
   ]
  },
  {
   "cell_type": "code",
   "execution_count": 35,
   "id": "5fa5020a",
   "metadata": {
    "execution": {
     "iopub.execute_input": "2022-12-10T09:57:29.989304Z",
     "iopub.status.busy": "2022-12-10T09:57:29.988346Z",
     "iopub.status.idle": "2022-12-10T09:57:30.004786Z",
     "shell.execute_reply": "2022-12-10T09:57:30.003847Z"
    },
    "papermill": {
     "duration": 0.04081,
     "end_time": "2022-12-10T09:57:30.007385",
     "exception": false,
     "start_time": "2022-12-10T09:57:29.966575",
     "status": "completed"
    },
    "tags": []
   },
   "outputs": [],
   "source": [
    "predicted_age = pipe.predict(full_df_enc[full_df_enc['Age'].isna()].drop(['Name', 'Survived', 'Age'], axis=1))"
   ]
  },
  {
   "cell_type": "code",
   "execution_count": 36,
   "id": "0b050d87",
   "metadata": {
    "execution": {
     "iopub.execute_input": "2022-12-10T09:57:30.050551Z",
     "iopub.status.busy": "2022-12-10T09:57:30.050098Z",
     "iopub.status.idle": "2022-12-10T09:57:30.058204Z",
     "shell.execute_reply": "2022-12-10T09:57:30.056907Z"
    },
    "papermill": {
     "duration": 0.032541,
     "end_time": "2022-12-10T09:57:30.060561",
     "exception": false,
     "start_time": "2022-12-10T09:57:30.028020",
     "status": "completed"
    },
    "tags": []
   },
   "outputs": [],
   "source": [
    "full_df_enc.loc[full_df_enc['Age'].isna(), 'Age'] = np.round(predicted_age, 1)"
   ]
  },
  {
   "cell_type": "code",
   "execution_count": 37,
   "id": "8cd8a43a",
   "metadata": {
    "execution": {
     "iopub.execute_input": "2022-12-10T09:57:30.103229Z",
     "iopub.status.busy": "2022-12-10T09:57:30.102825Z",
     "iopub.status.idle": "2022-12-10T09:57:30.387166Z",
     "shell.execute_reply": "2022-12-10T09:57:30.385850Z"
    },
    "papermill": {
     "duration": 0.308606,
     "end_time": "2022-12-10T09:57:30.389895",
     "exception": false,
     "start_time": "2022-12-10T09:57:30.081289",
     "status": "completed"
    },
    "tags": []
   },
   "outputs": [
    {
     "data": {
      "text/plain": [
       "<AxesSubplot:>"
      ]
     },
     "execution_count": 37,
     "metadata": {},
     "output_type": "execute_result"
    },
    {
     "data": {
      "image/png": "[encoded data removed]",
      "text/plain": [
       "<Figure size 432x288 with 1 Axes>"
      ]
     },
     "metadata": {
      "needs_background": "light"
     },
     "output_type": "display_data"
    }
   ],
   "source": [
    "full_df_enc.Age.hist()"
   ]
  },
  {
   "cell_type": "code",
   "execution_count": 38,
   "id": "c962ca1d",
   "metadata": {
    "execution": {
     "iopub.execute_input": "2022-12-10T09:57:30.434954Z",
     "iopub.status.busy": "2022-12-10T09:57:30.434128Z",
     "iopub.status.idle": "2022-12-10T09:57:30.680629Z",
     "shell.execute_reply": "2022-12-10T09:57:30.679204Z"
    },
    "papermill": {
     "duration": 0.271752,
     "end_time": "2022-12-10T09:57:30.682902",
     "exception": false,
     "start_time": "2022-12-10T09:57:30.411150",
     "status": "completed"
    },
    "tags": []
   },
   "outputs": [
    {
     "data": {
      "text/plain": [
       "<AxesSubplot:>"
      ]
     },
     "execution_count": 38,
     "metadata": {},
     "output_type": "execute_result"
    },
    {
     "data": {
      "image/png": "[encoded data removed]",
      "text/plain": [
       "<Figure size 432x288 with 1 Axes>"
      ]
     },
     "metadata": {
      "needs_background": "light"
     },
     "output_type": "display_data"
    }
   ],
   "source": [
    "full_df.Age.hist()"
   ]
  },
  {
   "cell_type": "code",
   "execution_count": 39,
   "id": "09a51bbd",
   "metadata": {
    "execution": {
     "iopub.execute_input": "2022-12-10T09:57:30.725557Z",
     "iopub.status.busy": "2022-12-10T09:57:30.725143Z",
     "iopub.status.idle": "2022-12-10T09:57:30.737858Z",
     "shell.execute_reply": "2022-12-10T09:57:30.737040Z"
    },
    "papermill": {
     "duration": 0.036563,
     "end_time": "2022-12-10T09:57:30.740073",
     "exception": false,
     "start_time": "2022-12-10T09:57:30.703510",
     "status": "completed"
    },
    "tags": []
   },
   "outputs": [],
   "source": [
    "X_sur = full_df_enc.loc[full_df_enc.Survived.notna()].drop(['Survived', 'Name'], axis=1)  \n",
    "y_sur = np.array(full_df_enc.loc[full_df_enc.Survived.notna()]['Survived'].astype(int))\n",
    "X_train_sur, X_test_sur, y_train_sur, y_test_sur = train_test_split(X_sur, y_sur, test_size=0.4, random_state = 0, stratify=X_sur['Title'])"
   ]
  },
  {
   "cell_type": "code",
   "execution_count": 40,
   "id": "b4da6934",
   "metadata": {
    "execution": {
     "iopub.execute_input": "2022-12-10T09:57:30.783093Z",
     "iopub.status.busy": "2022-12-10T09:57:30.782450Z",
     "iopub.status.idle": "2022-12-10T09:57:30.799115Z",
     "shell.execute_reply": "2022-12-10T09:57:30.798033Z"
    },
    "papermill": {
     "duration": 0.041029,
     "end_time": "2022-12-10T09:57:30.801576",
     "exception": false,
     "start_time": "2022-12-10T09:57:30.760547",
     "status": "completed"
    },
    "tags": []
   },
   "outputs": [],
   "source": [
    "from sklearn.dummy import DummyClassifier\n",
    "from sklearn.linear_model import LogisticRegression, LogisticRegressionCV, PassiveAggressiveClassifier\n",
    "from sklearn.metrics import confusion_matrix\n",
    "from sklearn.gaussian_process import GaussianProcessClassifier\n",
    "from sklearn.ensemble import AdaBoostClassifier, BaggingClassifier, ExtraTreesClassifier, GradientBoostingClassifier, IsolationForest, RandomForestClassifier, RandomTreesEmbedding, StackingClassifier\n",
    "from sklearn.ensemble import VotingClassifier\n",
    "# from hpbandster_sklearn import HpBandSterSearchCV"
   ]
  },
  {
   "cell_type": "code",
   "execution_count": 41,
   "id": "0f083312",
   "metadata": {
    "execution": {
     "iopub.execute_input": "2022-12-10T09:57:30.845296Z",
     "iopub.status.busy": "2022-12-10T09:57:30.844693Z",
     "iopub.status.idle": "2022-12-10T09:57:30.850457Z",
     "shell.execute_reply": "2022-12-10T09:57:30.849639Z"
    },
    "papermill": {
     "duration": 0.030648,
     "end_time": "2022-12-10T09:57:30.852646",
     "exception": false,
     "start_time": "2022-12-10T09:57:30.821998",
     "status": "completed"
    },
    "tags": []
   },
   "outputs": [],
   "source": [
    "\n",
    "classifier_10 = GradientBoostingClassifier(random_state=0, criterion='friedman_mse',\n",
    "                                           learning_rate=0.18,\n",
    "                                           loss='exponential',\n",
    "                                           max_depth=5,\n",
    "                                           max_leaf_nodes=30,\n",
    "                                           min_samples_leaf=3,\n",
    "                                           min_samples_split=20,\n",
    "                                           subsample=0.9736842105263157,\n",
    "                                           n_estimators=22)\n"
   ]
  },
  {
   "cell_type": "code",
   "execution_count": 42,
   "id": "5a6cf330",
   "metadata": {
    "execution": {
     "iopub.execute_input": "2022-12-10T09:57:30.895725Z",
     "iopub.status.busy": "2022-12-10T09:57:30.895314Z",
     "iopub.status.idle": "2022-12-10T09:57:30.947461Z",
     "shell.execute_reply": "2022-12-10T09:57:30.946070Z"
    },
    "papermill": {
     "duration": 0.076552,
     "end_time": "2022-12-10T09:57:30.949798",
     "exception": false,
     "start_time": "2022-12-10T09:57:30.873246",
     "status": "completed"
    },
    "tags": []
   },
   "outputs": [
    {
     "name": "stdout",
     "output_type": "stream",
     "text": [
      "GradientBoostingClassifier(learning_rate=0.18, loss='exponential', max_depth=5,\n",
      "                           max_leaf_nodes=30, min_samples_leaf=3,\n",
      "                           min_samples_split=20, n_estimators=22,\n",
      "                           random_state=0, subsample=0.9736842105263157)\n",
      "train score: 0.9044943820224719\n",
      "test score: 0.8739495798319328\n"
     ]
    }
   ],
   "source": [
    "classifiers = [classifier_10]\n",
    "for classifier in classifiers:\n",
    "    classifier.fit(X_train_sur, y_train_sur)\n",
    "    print(classifier)\n",
    "    print(f'train score: {classifier.score(X_train_sur, y_train_sur)}')\n",
    "    print(f'test score: {classifier.score(X_test_sur, y_test_sur)}')"
   ]
  },
  {
   "cell_type": "code",
   "execution_count": 43,
   "id": "35428200",
   "metadata": {
    "execution": {
     "iopub.execute_input": "2022-12-10T09:57:30.992728Z",
     "iopub.status.busy": "2022-12-10T09:57:30.992319Z",
     "iopub.status.idle": "2022-12-10T09:57:31.004094Z",
     "shell.execute_reply": "2022-12-10T09:57:31.002821Z"
    },
    "papermill": {
     "duration": 0.036182,
     "end_time": "2022-12-10T09:57:31.006555",
     "exception": false,
     "start_time": "2022-12-10T09:57:30.970373",
     "status": "completed"
    },
    "tags": []
   },
   "outputs": [
    {
     "data": {
      "text/plain": [
       "array([[221,  17],\n",
       "       [ 28,  91]])"
      ]
     },
     "execution_count": 43,
     "metadata": {},
     "output_type": "execute_result"
    }
   ],
   "source": [
    "confusion_matrix(y_test_sur, classifier_10.predict(X_test_sur))"
   ]
  },
  {
   "cell_type": "code",
   "execution_count": 44,
   "id": "add62493",
   "metadata": {
    "execution": {
     "iopub.execute_input": "2022-12-10T09:57:31.049902Z",
     "iopub.status.busy": "2022-12-10T09:57:31.049496Z",
     "iopub.status.idle": "2022-12-10T09:57:31.059801Z",
     "shell.execute_reply": "2022-12-10T09:57:31.058638Z"
    },
    "papermill": {
     "duration": 0.034942,
     "end_time": "2022-12-10T09:57:31.062177",
     "exception": false,
     "start_time": "2022-12-10T09:57:31.027235",
     "status": "completed"
    },
    "tags": []
   },
   "outputs": [],
   "source": [
    "predicted_survived = classifier_10.predict(full_df_enc.loc[full_df_enc.Survived.isna()].drop(['Name', 'Survived'], axis=1))"
   ]
  },
  {
   "cell_type": "code",
   "execution_count": 45,
   "id": "55e86258",
   "metadata": {
    "execution": {
     "iopub.execute_input": "2022-12-10T09:57:31.107000Z",
     "iopub.status.busy": "2022-12-10T09:57:31.106574Z",
     "iopub.status.idle": "2022-12-10T09:57:31.114832Z",
     "shell.execute_reply": "2022-12-10T09:57:31.113671Z"
    },
    "papermill": {
     "duration": 0.033175,
     "end_time": "2022-12-10T09:57:31.117286",
     "exception": false,
     "start_time": "2022-12-10T09:57:31.084111",
     "status": "completed"
    },
    "tags": []
   },
   "outputs": [
    {
     "data": {
      "text/plain": [
       "array([0, 1, 0, 0, 0, 0, 0, 0, 1, 0, 0, 0, 1, 0, 1, 1, 0, 0, 0, 1, 1, 0,\n",
       "       1, 1, 1, 0, 1, 0, 1, 0, 0, 0, 0, 0, 0, 0, 0, 0, 0, 0, 0, 0, 0, 1,\n",
       "       1, 0, 0, 0, 1, 1, 1, 0, 1, 1, 1, 0, 0, 0, 0, 1, 0, 0, 0, 1, 0, 1,\n",
       "       1, 0, 0, 1, 1, 0, 0, 1, 1, 1, 0, 1, 0, 1, 1, 0, 0, 0, 0, 0, 1, 0,\n",
       "       1, 1, 0, 0, 1, 0, 1, 0, 1, 0, 0, 0, 1, 0, 0, 0, 1, 0, 0, 0, 0, 0,\n",
       "       0, 1, 1, 1, 1, 0, 0, 1, 1, 1, 1, 0, 1, 0, 0, 0, 0, 1, 0, 0, 0, 1,\n",
       "       0, 0, 0, 0, 0, 0, 0, 0, 0, 1, 1, 0, 1, 0, 0, 0, 0, 0, 1, 0, 0, 1,\n",
       "       0, 0, 1, 0, 1, 0, 1, 1, 1, 0, 0, 0, 0, 0, 1, 0, 0, 0, 0, 0, 0, 1,\n",
       "       1, 1, 1, 1, 0, 0, 1, 0, 1, 0, 1, 0, 0, 0, 0, 0, 0, 0, 1, 0, 1, 0,\n",
       "       0, 0, 1, 1, 1, 1, 0, 0, 1, 0, 1, 0, 0, 0, 0, 1, 0, 0, 1, 0, 1, 0,\n",
       "       1, 0, 1, 0, 1, 1, 0, 1, 0, 0, 0, 1, 0, 0, 0, 0, 0, 0, 1, 1, 1, 1,\n",
       "       1, 0, 1, 0, 1, 0, 1, 1, 1, 0, 1, 0, 0, 0, 0, 0, 1, 0, 0, 0, 1, 1,\n",
       "       0, 0, 0, 0, 0, 0, 0, 0, 1, 1, 0, 1, 0, 0, 0, 0, 0, 1, 1, 1, 1, 0,\n",
       "       0, 0, 0, 0, 0, 0, 0, 0, 0, 0, 1, 0, 0, 0, 0, 0, 0, 0, 1, 1, 0, 1,\n",
       "       0, 0, 0, 0, 0, 1, 1, 1, 0, 0, 0, 0, 0, 0, 0, 1, 1, 0, 1, 0, 0, 0,\n",
       "       1, 0, 0, 1, 0, 0, 0, 0, 0, 0, 0, 0, 0, 1, 1, 1, 0, 1, 0, 1, 1, 0,\n",
       "       0, 0, 1, 0, 1, 0, 0, 1, 0, 1, 1, 0, 1, 0, 0, 0, 1, 0, 0, 1, 0, 0,\n",
       "       1, 1, 0, 0, 0, 0, 0, 0, 1, 0, 0, 1, 0, 0, 0, 0, 0, 1, 0, 0, 0, 1,\n",
       "       0, 1, 0, 0, 1, 0, 1, 0, 0, 0, 0, 0, 1, 1, 1, 1, 0, 0, 1, 0, 0, 1])"
      ]
     },
     "execution_count": 45,
     "metadata": {},
     "output_type": "execute_result"
    }
   ],
   "source": [
    "predicted_survived"
   ]
  },
  {
   "cell_type": "code",
   "execution_count": 46,
   "id": "51b33a5c",
   "metadata": {
    "execution": {
     "iopub.execute_input": "2022-12-10T09:57:31.161682Z",
     "iopub.status.busy": "2022-12-10T09:57:31.160532Z",
     "iopub.status.idle": "2022-12-10T09:57:31.166966Z",
     "shell.execute_reply": "2022-12-10T09:57:31.165797Z"
    },
    "papermill": {
     "duration": 0.03106,
     "end_time": "2022-12-10T09:57:31.169292",
     "exception": false,
     "start_time": "2022-12-10T09:57:31.138232",
     "status": "completed"
    },
    "tags": []
   },
   "outputs": [],
   "source": [
    "test_df['Survived'] = predicted_survived.astype(int)"
   ]
  },
  {
   "cell_type": "code",
   "execution_count": 47,
   "id": "f213a1ed",
   "metadata": {
    "execution": {
     "iopub.execute_input": "2022-12-10T09:57:31.213805Z",
     "iopub.status.busy": "2022-12-10T09:57:31.213343Z",
     "iopub.status.idle": "2022-12-10T09:57:31.219973Z",
     "shell.execute_reply": "2022-12-10T09:57:31.219157Z"
    },
    "papermill": {
     "duration": 0.031253,
     "end_time": "2022-12-10T09:57:31.222059",
     "exception": false,
     "start_time": "2022-12-10T09:57:31.190806",
     "status": "completed"
    },
    "tags": []
   },
   "outputs": [],
   "source": [
    "submission = pd.DataFrame(index=[test_df.PassengerId, test_df.Survived])"
   ]
  },
  {
   "cell_type": "code",
   "execution_count": 48,
   "id": "bf0a0ee8",
   "metadata": {
    "execution": {
     "iopub.execute_input": "2022-12-10T09:57:31.266250Z",
     "iopub.status.busy": "2022-12-10T09:57:31.265511Z",
     "iopub.status.idle": "2022-12-10T09:57:31.275720Z",
     "shell.execute_reply": "2022-12-10T09:57:31.274639Z"
    },
    "papermill": {
     "duration": 0.035029,
     "end_time": "2022-12-10T09:57:31.278114",
     "exception": false,
     "start_time": "2022-12-10T09:57:31.243085",
     "status": "completed"
    },
    "tags": []
   },
   "outputs": [],
   "source": [
    "submission.to_csv('submission.csv')"
   ]
  }
 ],
 "metadata": {
  "kernelspec": {
   "display_name": "Python 3",
   "language": "python",
   "name": "python3"
  },
  "language_info": {
   "codemirror_mode": {
    "name": "ipython",
    "version": 3
   },
   "file_extension": ".py",
   "mimetype": "text/x-python",
   "name": "python",
   "nbconvert_exporter": "python",
   "pygments_lexer": "ipython3",
   "version": "3.7.12"
  },
  "papermill": {
   "default_parameters": {},
   "duration": 27.008373,
   "end_time": "2022-12-10T09:57:32.121517",
   "environment_variables": {},
   "exception": null,
   "input_path": "__notebook__.ipynb",
   "output_path": "__notebook__.ipynb",
   "parameters": {},
   "start_time": "2022-12-10T09:57:05.113144",
   "version": "2.3.4"
  }
 },
 "nbformat": 4,
 "nbformat_minor": 5
}
